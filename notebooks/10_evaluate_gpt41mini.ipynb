{
 "cells": [
  {
   "cell_type": "markdown",
   "id": "e5932956",
   "metadata": {},
   "source": [
    "# Evaluating pre-trained GPT-4.1-mini\n"
   ]
  },
  {
   "cell_type": "code",
   "execution_count": 32,
   "id": "9ec8f293",
   "metadata": {},
   "outputs": [],
   "source": [
    "import os\n",
    "import sys\n",
    "\n",
    "sys.path.append(\"../scripts\")\n",
    "\n",
    "import time\n",
    "\n",
    "import pandas as pd\n",
    "from metrics import per_source_metrics\n",
    "from openai import AzureOpenAI\n",
    "from plot_utils import plot_confusion_matrix\n",
    "from sklearn.metrics import classification_report\n",
    "from tqdm import tqdm"
   ]
  },
  {
   "cell_type": "code",
   "execution_count": null,
   "id": "7257c0e7",
   "metadata": {},
   "outputs": [],
   "source": [
    "endpoint = os.getenv(\"AZURE_ENDPOINT\")\n",
    "model_deployment_name = \"gpt-4.1-mini\"\n",
    "\n",
    "subscription_key = os.getenv(\"AZURE_API_KEY\")\n",
    "api_version = \"2024-12-01-preview\""
   ]
  },
  {
   "cell_type": "code",
   "execution_count": null,
   "id": "6dc07628",
   "metadata": {},
   "outputs": [],
   "source": [
    "client = AzureOpenAI(\n",
    "    api_version=api_version,\n",
    "    azure_endpoint=endpoint,\n",
    "    api_key=subscription_key,\n",
    ")"
   ]
  },
  {
   "cell_type": "code",
   "execution_count": null,
   "id": "4836576e",
   "metadata": {},
   "outputs": [
    {
     "name": "stdout",
     "output_type": "stream",
     "text": [
      "That’s exciting! Paris has so much to offer\n"
     ]
    }
   ],
   "source": [
    "response = client.chat.completions.create(\n",
    "    messages=[\n",
    "        {\n",
    "            \"role\": \"system\",\n",
    "            \"content\": \"You are a helpful assistant.\",\n",
    "        },\n",
    "        {\n",
    "            \"role\": \"user\",\n",
    "            \"content\": \"I am going to Paris, what should I see?\",\n",
    "        },\n",
    "    ],\n",
    "    max_completion_tokens=10,\n",
    "    temperature=1.0,\n",
    "    top_p=1.0,\n",
    "    frequency_penalty=0.0,\n",
    "    presence_penalty=0.0,\n",
    "    model=model_deployment_name,\n",
    ")\n",
    "\n",
    "print(response.choices[0].message.content)"
   ]
  },
  {
   "cell_type": "code",
   "execution_count": null,
   "id": "5a69a375",
   "metadata": {},
   "outputs": [],
   "source": [
    "val_df = pd.read_csv(\"../data/processed/val.csv\")"
   ]
  },
  {
   "cell_type": "code",
   "execution_count": null,
   "id": "0185237e",
   "metadata": {},
   "outputs": [],
   "source": [
    "prompts = [\n",
    "    {\n",
    "        \"role\": \"system\",\n",
    "        \"content\": \"You are a financial sentiment classifier. Respond with one word: neutral, positive, or negative.\",\n",
    "    }\n",
    "]\n",
    "\n",
    "sentences = val_df[\"sentence\"].tolist()\n",
    "true_labels = val_df[\"label\"].tolist()"
   ]
  },
  {
   "cell_type": "code",
   "execution_count": null,
   "id": "3c1ff65c",
   "metadata": {},
   "outputs": [
    {
     "name": "stderr",
     "output_type": "stream",
     "text": [
      "100%|██████████| 1781/1781 [18:09<00:00,  1.63it/s] \n"
     ]
    }
   ],
   "source": [
    "preds = []\n",
    "\n",
    "for sentence in tqdm(sentences):\n",
    "    response = client.chat.completions.create(\n",
    "        messages=prompts\n",
    "        + [\n",
    "            {\n",
    "                \"role\": \"user\",\n",
    "                \"content\": f\"Classify the sentiment of this sentence: {sentence}\",\n",
    "            }\n",
    "        ],\n",
    "        max_completion_tokens=1,\n",
    "        model=model_deployment_name,\n",
    "    )\n",
    "    result = response.choices[0].message.content.strip().lower()\n",
    "    preds.append(result)\n",
    "    # time.sleep(0.5)  # To avoid hitting rate limits\n",
    "\n",
    "    # print(f\"{i}\\ngpt-4.1-mini-ft: {result}\\nvalidation: {true_labels[i]}\\n\")"
   ]
  },
  {
   "cell_type": "code",
   "execution_count": null,
   "id": "850df3f7",
   "metadata": {},
   "outputs": [],
   "source": [
    "with open(\"../models/gpt-4.1/gpt-4.1-mini-preds.txt\", \"w\") as f:\n",
    "    for label in preds:\n",
    "        f.write(label + \"\\n\")"
   ]
  },
  {
   "cell_type": "code",
   "execution_count": null,
   "id": "b35b93a4",
   "metadata": {},
   "outputs": [
    {
     "name": "stdout",
     "output_type": "stream",
     "text": [
      "              precision    recall  f1-score   support\n",
      "\n",
      "    negative       0.61      0.89      0.73       274\n",
      "     neutral       0.90      0.55      0.68      1064\n",
      "    positive       0.54      0.88      0.67       443\n",
      "\n",
      "    accuracy                           0.69      1781\n",
      "   macro avg       0.68      0.78      0.69      1781\n",
      "weighted avg       0.76      0.69      0.69      1781\n",
      "\n"
     ]
    }
   ],
   "source": [
    "report = classification_report(true_labels, preds)\n",
    "print(report)"
   ]
  },
  {
   "cell_type": "code",
   "execution_count": null,
   "id": "839e31be",
   "metadata": {},
   "outputs": [
    {
     "data": {
      "image/png": "[encoded data removed]",
      "text/plain": [
       "<Figure size 625x500 with 2 Axes>"
      ]
     },
     "metadata": {},
     "output_type": "display_data"
    }
   ],
   "source": [
    "plot_confusion_matrix(\n",
    "    true_labels,\n",
    "    preds,\n",
    "    labels=[\"positive\", \"neutral\", \"negative\"],\n",
    "    title=\"o4-mini - Confusion Matrix\",\n",
    "    cmap=\"Oranges\",\n",
    ")"
   ]
  },
  {
   "cell_type": "code",
   "execution_count": 33,
   "id": "87d1d2d2",
   "metadata": {},
   "outputs": [
    {
     "name": "stdout",
     "output_type": "stream",
     "text": [
      "GPT-4.1-mini-fine-tuned Per-Source Performance:\n",
      "\n",
      "FPB: Accuracy=0.743, Macro-F1=0.764\n",
      "Twitter: Accuracy=0.656, Macro-F1=0.657\n",
      "FiQA: Accuracy=0.759, Macro-F1=0.656\n"
     ]
    }
   ],
   "source": [
    "per_source_results = per_source_metrics(true_labels, preds, val_df[\"source\"])\n",
    "print(\"GPT-4.1-mini-fine-tuned Per-Source Performance:\\n\")\n",
    "for source, acc, f1 in per_source_results:\n",
    "    print(f\"{source}: Accuracy={acc:.3f}, Macro-F1={f1:.3f}\")"
   ]
  },
  {
   "cell_type": "code",
   "execution_count": 34,
   "id": "9143a15f",
   "metadata": {},
   "outputs": [],
   "source": [
    "pd.DataFrame(\n",
    "    classification_report(true_labels, preds, output_dict=True)\n",
    ").transpose().to_csv(\"../models/gpt-4.1/gpt-4.1-mini-preds.csv\")"
   ]
  }
 ],
 "metadata": {
  "kernelspec": {
   "display_name": "Python 3",
   "language": "python",
   "name": "python3"
  },
  "language_info": {
   "codemirror_mode": {
    "name": "ipython",
    "version": 3
   },
   "file_extension": ".py",
   "mimetype": "text/x-python",
   "name": "python",
   "nbconvert_exporter": "python",
   "pygments_lexer": "ipython3",
   "version": "3.13.3"
  }
 },
 "nbformat": 4,
 "nbformat_minor": 5
}

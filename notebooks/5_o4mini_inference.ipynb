{
    "cells": [
        {
            "cell_type": "markdown",
            "id": "42b1aad4",
            "metadata": {},
            "source": [
                "# o4-mini (Azure OpenAI) Financial Sentiment Inference\n",
                "\n",
                "This notebook evaluates the `o4-mini` model deployed via **Azure OpenAI** as a zero-shot sentiment classifier.\n",
                "\n",
                "We provide system instructions and a sample sentence, and expect one of: `positive`, `neutral`, or `negative`.\n",
                "\n",
                "**Objective:** Understand how a general LLM performs on specialized financial sentiment tasks.\n"
            ]
        },
        {
            "cell_type": "code",
            "execution_count": 7,
            "id": "83de1266",
            "metadata": {},
            "outputs": [],
            "source": [
                "import os\n",
                "import sys\n",
                "\n",
                "from dotenv import load_dotenv\n",
                "\n",
                "sys.path.append(\"../scripts\")\n",
                "\n",
                "import pandas as pd\n",
                "from metrics import per_source_metrics\n",
                "from openai import AzureOpenAI\n",
                "from plot_utils import plot_confusion_matrix\n",
                "from sklearn.metrics import classification_report\n",
                "from tqdm import tqdm"
            ]
        },
        {
            "cell_type": "markdown",
            "id": "0984791a",
            "metadata": {},
            "source": [
                "## Load Validation Data\n",
                "\n",
                "We'll use the same `val.csv` used in other experiments.\n"
            ]
        },
        {
            "cell_type": "code",
            "execution_count": null,
            "id": "7c3038ac",
            "metadata": {},
            "outputs": [
                {
                    "name": "stdout",
                    "output_type": "stream",
                    "text": [
                        "Validation samples: 1781 \n",
                        "\n",
                        "label\n",
                        "neutral     1064\n",
                        "positive     443\n",
                        "negative     274\n",
                        "Name: count, dtype: int64\n"
                    ]
                }
            ],
            "source": [
                "val_df = pd.read_csv(\"../data/processed/val.csv\")\n",
                "\n",
                "print(\"Validation samples:\", len(val_df), \"\\n\")\n",
                "print(val_df[\"label\"].value_counts())"
            ]
        },
        {
            "cell_type": "markdown",
            "id": "a5ed611c",
            "metadata": {},
            "source": [
                "## Azure OpenAI Configuration\n",
                "\n",
                "Make sure your API key and endpoint are securely loaded.\n"
            ]
        },
        {
            "cell_type": "code",
            "execution_count": null,
            "id": "bddd1ad6",
            "metadata": {},
            "outputs": [],
            "source": [
                "endpoint = os.getenv(\"AZURE_ENDPOINT\")\n",
                "api_key = os.getenv(\"AZURE_API_KEY\")\n",
                "model_name = \"o4-mini\"\n",
                "model_deployment_name = \"o4-mini\"\n",
                "\n",
                "client = AzureOpenAI(\n",
                "    api_version=\"2024-12-01-preview\",\n",
                "    azure_endpoint=endpoint,\n",
                "    api_key=api_key,\n",
                ")"
            ]
        },
        {
            "cell_type": "markdown",
            "id": "ef0e78a4",
            "metadata": {},
            "source": [
                "## Inference\n",
                "\n",
                "We provide a sentence and prompt the LLM to classify it as `positive`, `neutral`, or `negative`.\n"
            ]
        },
        {
            "cell_type": "code",
            "execution_count": null,
            "id": "1f797144",
            "metadata": {},
            "outputs": [],
            "source": [
                "prompts = [\n",
                "    {\n",
                "        \"role\": \"system\",\n",
                "        \"content\": \"You are a financial sentiment classifier. Respond with one word: neutral, positive, or negative.\",\n",
                "    }\n",
                "]\n",
                "\n",
                "sentences = val_df[\"sentence\"].tolist()\n",
                "true_labels = val_df[\"label\"].tolist()"
            ]
        },
        {
            "cell_type": "code",
            "execution_count": 16,
            "id": "9a8a8212",
            "metadata": {},
            "outputs": [
                {
                    "name": "stderr",
                    "output_type": "stream",
                    "text": [
                        "100%|██████████| 620/620 [31:56<00:00,  3.09s/it]  \n"
                    ]
                }
            ],
            "source": [
                "# preds = []\n",
                "\n",
                "for sentence in tqdm(sentences[1161:]):\n",
                "    response = client.chat.completions.create(\n",
                "        messages=prompts\n",
                "        + [\n",
                "            {\n",
                "                \"role\": \"user\",\n",
                "                \"content\": f\"Classify the sentiment of this sentence: {sentence}\",\n",
                "            }\n",
                "        ],\n",
                "        max_completion_tokens=10000,\n",
                "        model=model_deployment_name,\n",
                "    )\n",
                "    result = response.choices[0].message.content.strip().lower()\n",
                "    preds.append(result)\n",
                "\n",
                "    # print(f\"{i}\\no4-mini: {result}\\nvalidation: {true_labels[i]}\\n\")"
            ]
        },
        {
            "cell_type": "markdown",
            "id": "a287a576",
            "metadata": {},
            "source": [
                "## Evaluation\n"
            ]
        },
        {
            "cell_type": "code",
            "execution_count": 17,
            "id": "8ec252d7",
            "metadata": {},
            "outputs": [
                {
                    "name": "stdout",
                    "output_type": "stream",
                    "text": [
                        "              precision    recall  f1-score   support\n",
                        "\n",
                        "    negative       0.64      0.92      0.76       274\n",
                        "     neutral       0.90      0.67      0.77      1064\n",
                        "    positive       0.63      0.85      0.72       443\n",
                        "\n",
                        "    accuracy                           0.75      1781\n",
                        "   macro avg       0.73      0.81      0.75      1781\n",
                        "weighted avg       0.80      0.75      0.76      1781\n",
                        "\n"
                    ]
                }
            ],
            "source": [
                "report = classification_report(true_labels, preds)\n",
                "print(report)"
            ]
        },
        {
            "cell_type": "code",
            "execution_count": 18,
            "id": "d07bcf2c",
            "metadata": {},
            "outputs": [
                {
                    "data": {
                        "image/png": "[encoded data removed]",
                        "text/plain": [
                            "<Figure size 625x500 with 2 Axes>"
                        ]
                    },
                    "metadata": {},
                    "output_type": "display_data"
                }
            ],
            "source": [
                "plot_confusion_matrix(\n",
                "    true_labels,\n",
                "    preds,\n",
                "    labels=[\"positive\", \"neutral\", \"negative\"],\n",
                "    title=\"o4-mini - Confusion Matrix\",\n",
                "    cmap=\"Oranges\",\n",
                ")"
            ]
        },
        {
            "cell_type": "code",
            "execution_count": 19,
            "id": "3c41048b",
            "metadata": {},
            "outputs": [
                {
                    "name": "stdout",
                    "output_type": "stream",
                    "text": [
                        "False Positives:\n",
                        "ING ING May Be Through The Worst Point Of The Cycle Read more stockmarket economy investing\n",
                        "Cencorp s net sales in the first quarter is estimated to be EUR091 2 m as compared to EUR4 5 m in the first quarter 2008\n",
                        "Bank of America sees demand surge for paycheck protection loans\n",
                        "Locked in some FB puts for nice gain\n",
                        "Core US PPI surprises on the downside\n",
                        "COST short finally making gains I will take half my gains at 147\n",
                        "Oil slips but holds near 2month high as looming OPEC meeting expected to yield deeper cuts\n",
                        "\n",
                        "False Negatives:\n",
                        "Oil and gold rise after a US airstrike in Baghdad killed a top Iranian commander Asian stocks including Hong Ko\n",
                        "Gold Mine Output Falls For First Time Since 2008\n",
                        "4 beatendown Internet companies that may be ripe for a takeover target Twitter TWTR LinkedIn LNKD Yahoo YHOO Groupon GRPN\n",
                        "NEW Goldman Sachs fine for its role in the 1MDB scandal could be under 2 billion far less than what some anal\n",
                        "XOM 58 pre Exxon cuts fullyear capex forecast by 30 maintains longterm outlook SA\n",
                        "Declining Rig Counts Point To Higher Energy Prices And A Headwind For The US Economy\n",
                        "McDonald to Pay 26 Million in Wage Suit Update McDonalds Stock MarketScreener\n"
                    ]
                }
            ],
            "source": [
                "print(\"False Positives:\")\n",
                "for i in range(len(preds)):\n",
                "    if preds[i] == \"positive\" and true_labels[i] == \"negative\":\n",
                "        print(sentences[i])\n",
                "\n",
                "print(\"\\nFalse Negatives:\")\n",
                "for i in range(len(preds)):\n",
                "    if preds[i] == \"negative\" and true_labels[i] == \"positive\":\n",
                "        print(sentences[i])"
            ]
        },
        {
            "cell_type": "code",
            "execution_count": 20,
            "id": "c2354a8a",
            "metadata": {},
            "outputs": [
                {
                    "name": "stdout",
                    "output_type": "stream",
                    "text": [
                        "o4-mini Per-Source Performance:\n",
                        "\n",
                        "FPB: Accuracy=0.809, Macro-F1=0.819\n",
                        "Twitter: Accuracy=0.726, Macro-F1=0.714\n",
                        "FiQA: Accuracy=0.815, Macro-F1=0.737\n"
                    ]
                }
            ],
            "source": [
                "o4_results = per_source_metrics(true_labels, preds, val_df[\"source\"])\n",
                "print(\"o4-mini Per-Source Performance:\\n\")\n",
                "for source, acc, f1 in o4_results:\n",
                "    print(f\"{source}: Accuracy={acc:.3f}, Macro-F1={f1:.3f}\")"
            ]
        },
        {
            "cell_type": "markdown",
            "id": "d7e2702a",
            "metadata": {},
            "source": [
                "## Save Results\n"
            ]
        },
        {
            "cell_type": "code",
            "execution_count": 21,
            "id": "08f00fa9",
            "metadata": {},
            "outputs": [],
            "source": [
                "pd.DataFrame(\n",
                "    classification_report(true_labels, preds, output_dict=True)\n",
                ").transpose().to_csv(\"../models/o4/o4-mini-preds.csv\")\n",
                "\n",
                "with open(\"../models/o4/o4-mini-preds.txt\", \"w\") as f:\n",
                "    for label in preds:\n",
                "        f.write(label + \"\\n\")"
            ]
        },
        {
            "cell_type": "markdown",
            "id": "2612b99f",
            "metadata": {},
            "source": [
                "## Summary\n",
                "\n",
                "The o4-mini model performs very well **without any fine-tuning**, highlighting the power of general LLMs on domain-specific tasks.\n"
            ]
        }
    ],
    "metadata": {
        "kernelspec": {
            "display_name": "Python 3",
            "language": "python",
            "name": "python3"
        },
        "language_info": {
            "codemirror_mode": {
                "name": "ipython",
                "version": 3
            },
            "file_extension": ".py",
            "mimetype": "text/x-python",
            "name": "python",
            "nbconvert_exporter": "python",
            "pygments_lexer": "ipython3",
            "version": "3.13.3"
        }
    },
    "nbformat": 4,
    "nbformat_minor": 5
}

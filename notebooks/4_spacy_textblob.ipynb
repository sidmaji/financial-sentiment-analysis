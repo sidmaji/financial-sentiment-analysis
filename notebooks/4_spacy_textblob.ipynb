{
    "cells": [
        {
            "cell_type": "markdown",
            "id": "dc31b564",
            "metadata": {},
            "source": [
                "# Custom SpaCy TextCategorizer for Financial Sentiment\n",
                "\n",
                "In this notebook, we train a custom sentiment analysis model using SpaCy’s built-in `TextCategorizer` pipeline component.\n",
                "\n",
                "We’ll use our cleaned `train.csv` and `val.csv` datasets to train and evaluate this rule-free model.\n",
                "\n",
                "-   Fine-tuned on your labeled financial data\n",
                "-   Outputs one of: **positive**, **neutral**, **negative**\n"
            ]
        },
        {
            "cell_type": "code",
            "execution_count": 2,
            "id": "2e67316d",
            "metadata": {},
            "outputs": [],
            "source": [
                "import sys\n",
                "\n",
                "sys.path.append(\"../scripts\")\n",
                "\n",
                "import random\n",
                "\n",
                "import pandas as pd\n",
                "import spacy\n",
                "from metrics import per_source_metrics\n",
                "from plot_utils import plot_confusion_matrix\n",
                "from sklearn.metrics import classification_report\n",
                "from spacy.training.example import Example\n",
                "from spacy.util import minibatch\n",
                "from tqdm import tqdm"
            ]
        },
        {
            "cell_type": "markdown",
            "id": "11b183d4",
            "metadata": {},
            "source": [
                "## Load Training & Validation Data\n"
            ]
        },
        {
            "cell_type": "code",
            "execution_count": 3,
            "id": "fa612b4e",
            "metadata": {},
            "outputs": [
                {
                    "name": "stdout",
                    "output_type": "stream",
                    "text": [
                        "Train size: 16022\n",
                        "Validation size: 1781\n",
                        "Train label breakdown:\n",
                        " label\n",
                        "neutral     9573\n",
                        "positive    3989\n",
                        "negative    2460\n",
                        "Name: count, dtype: int64 \n",
                        "\n"
                    ]
                }
            ],
            "source": [
                "train_df = (\n",
                "    pd.read_csv(\"../data/processed/train.csv\").dropna(subset=[\"sentence\"]).astype(str)\n",
                ")\n",
                "val_df = pd.read_csv(\"../data/processed/val.csv\").astype(str)\n",
                "\n",
                "print(\"Train size:\", len(train_df))\n",
                "print(\"Validation size:\", len(val_df))\n",
                "print(\"Train label breakdown:\\n\", train_df[\"label\"].value_counts(), \"\\n\")"
            ]
        },
        {
            "cell_type": "markdown",
            "id": "4c170070",
            "metadata": {},
            "source": [
                "## Prepare Data for Training\n",
                "\n",
                "We structure the examples as required by spaCy's training API.\n"
            ]
        },
        {
            "cell_type": "code",
            "execution_count": 4,
            "id": "dd1d005e",
            "metadata": {},
            "outputs": [
                {
                    "name": "stdout",
                    "output_type": "stream",
                    "text": [
                        "Loaded 16022 training examples.\n"
                    ]
                }
            ],
            "source": [
                "def to_spacy_format(row):\n",
                "    cats = {\"positive\": 0.0, \"neutral\": 0.0, \"negative\": 0.0}\n",
                "    cats[row[\"label\"]] = 1.0\n",
                "    return (row[\"sentence\"], {\"cats\": cats})\n",
                "\n",
                "\n",
                "train_data = [to_spacy_format(row) for _, row in train_df.iterrows()]\n",
                "print(f\"Loaded {len(train_data)} training examples.\")"
            ]
        },
        {
            "cell_type": "markdown",
            "id": "076f5bd0",
            "metadata": {},
            "source": [
                "## Initialize SpaCy Model and TextCategorizer\n"
            ]
        },
        {
            "cell_type": "code",
            "execution_count": null,
            "id": "e5e9e98e",
            "metadata": {},
            "outputs": [
                {
                    "data": {
                        "text/plain": [
                            "1"
                        ]
                    },
                    "execution_count": 4,
                    "metadata": {},
                    "output_type": "execute_result"
                }
            ],
            "source": [
                "nlp = spacy.blank(\"en\")\n",
                "\n",
                "textcat = nlp.add_pipe(\"textcat\", last=True)\n",
                "\n",
                "textcat.add_label(\"positive\")\n",
                "textcat.add_label(\"neutral\")\n",
                "textcat.add_label(\"negative\")"
            ]
        },
        {
            "cell_type": "markdown",
            "id": "6bda4fb2",
            "metadata": {},
            "source": [
                "## Training Loop\n",
                "\n",
                "We use spaCy’s built-in training loop with minibatching.\n"
            ]
        },
        {
            "cell_type": "code",
            "execution_count": 5,
            "metadata": {
                "colab": {
                    "base_uri": "https://localhost:8080/"
                },
                "id": "yeX_jrU6C5XP",
                "outputId": "e6c409ac-613a-44d5-cf8b-48878e1deb50"
            },
            "outputs": [
                {
                    "name": "stderr",
                    "output_type": "stream",
                    "text": [
                        " 10%|█         | 1/10 [00:29<04:23, 29.29s/it]"
                    ]
                },
                {
                    "name": "stdout",
                    "output_type": "stream",
                    "text": [
                        "Epoch 1/10 | Loss: 154.3297\n"
                    ]
                },
                {
                    "name": "stderr",
                    "output_type": "stream",
                    "text": [
                        "\r 20%|██        | 2/10 [01:02<04:14, 31.85s/it]"
                    ]
                },
                {
                    "name": "stdout",
                    "output_type": "stream",
                    "text": [
                        "Epoch 2/10 | Loss: 117.3176\n"
                    ]
                },
                {
                    "name": "stderr",
                    "output_type": "stream",
                    "text": [
                        "\r 30%|███       | 3/10 [01:40<04:00, 34.39s/it]"
                    ]
                },
                {
                    "name": "stdout",
                    "output_type": "stream",
                    "text": [
                        "Epoch 3/10 | Loss: 97.6208\n"
                    ]
                },
                {
                    "name": "stderr",
                    "output_type": "stream",
                    "text": [
                        "\r 40%|████      | 4/10 [02:21<03:43, 37.21s/it]"
                    ]
                },
                {
                    "name": "stdout",
                    "output_type": "stream",
                    "text": [
                        "Epoch 4/10 | Loss: 85.3419\n"
                    ]
                },
                {
                    "name": "stderr",
                    "output_type": "stream",
                    "text": [
                        "\r 50%|█████     | 5/10 [03:01<03:11, 38.20s/it]"
                    ]
                },
                {
                    "name": "stdout",
                    "output_type": "stream",
                    "text": [
                        "Epoch 5/10 | Loss: 76.2526\n"
                    ]
                },
                {
                    "name": "stderr",
                    "output_type": "stream",
                    "text": [
                        "\r 60%|██████    | 6/10 [03:43<02:37, 39.25s/it]"
                    ]
                },
                {
                    "name": "stdout",
                    "output_type": "stream",
                    "text": [
                        "Epoch 6/10 | Loss: 67.9376\n"
                    ]
                },
                {
                    "name": "stderr",
                    "output_type": "stream",
                    "text": [
                        "\r 70%|███████   | 7/10 [04:24<02:00, 40.00s/it]"
                    ]
                },
                {
                    "name": "stdout",
                    "output_type": "stream",
                    "text": [
                        "Epoch 7/10 | Loss: 60.5644\n"
                    ]
                },
                {
                    "name": "stderr",
                    "output_type": "stream",
                    "text": [
                        "\r 80%|████████  | 8/10 [05:06<01:21, 40.63s/it]"
                    ]
                },
                {
                    "name": "stdout",
                    "output_type": "stream",
                    "text": [
                        "Epoch 8/10 | Loss: 55.6493\n"
                    ]
                },
                {
                    "name": "stderr",
                    "output_type": "stream",
                    "text": [
                        "\r 90%|█████████ | 9/10 [05:49<00:41, 41.37s/it]"
                    ]
                },
                {
                    "name": "stdout",
                    "output_type": "stream",
                    "text": [
                        "Epoch 9/10 | Loss: 51.4882\n"
                    ]
                },
                {
                    "name": "stderr",
                    "output_type": "stream",
                    "text": [
                        "100%|██████████| 10/10 [06:32<00:00, 39.24s/it]"
                    ]
                },
                {
                    "name": "stdout",
                    "output_type": "stream",
                    "text": [
                        "Epoch 10/10 | Loss: 45.9416\n"
                    ]
                },
                {
                    "name": "stderr",
                    "output_type": "stream",
                    "text": [
                        "\n"
                    ]
                }
            ],
            "source": [
                "n_iter = 10\n",
                "batch_size = 16  # or 8, 32 depending on your hardware\n",
                "optimizer = nlp.begin_training()\n",
                "\n",
                "for epoch in tqdm(range(n_iter)):\n",
                "    random.shuffle(train_data)\n",
                "    losses = {}\n",
                "\n",
                "    # Batch the examples\n",
                "    batches = minibatch(train_data, size=batch_size)\n",
                "\n",
                "    for batch in batches:\n",
                "        texts, annotations = zip(*batch)\n",
                "        examples = [\n",
                "            Example.from_dict(nlp.make_doc(text), ann)\n",
                "            for text, ann in zip(texts, annotations)\n",
                "        ]\n",
                "        nlp.update(examples, sgd=optimizer, drop=0.3, losses=losses)\n",
                "\n",
                "    print(f\"Epoch {epoch+1}/{n_iter} | Loss: {losses['textcat']:.4f}\")"
            ]
        },
        {
            "cell_type": "markdown",
            "id": "95dc75d4",
            "metadata": {},
            "source": [
                "## Save Trained Model\n"
            ]
        },
        {
            "cell_type": "code",
            "execution_count": null,
            "id": "d9c1b38c",
            "metadata": {},
            "outputs": [],
            "source": [
                "nlp.to_disk(\"../models/spacy/spacy_custom\")"
            ]
        },
        {
            "cell_type": "markdown",
            "id": "f7ecac5f",
            "metadata": {},
            "source": [
                "## Run Inference on Validation Set\n"
            ]
        },
        {
            "cell_type": "code",
            "execution_count": 7,
            "id": "11a0d9e6",
            "metadata": {},
            "outputs": [],
            "source": [
                "nlp = spacy.load(\"../models/spacy/spacy_custom\")\n",
                "\n",
                "preds = []\n",
                "for text in val_df[\"sentence\"]:\n",
                "    doc = nlp(text)\n",
                "    pred_label = max(doc.cats, key=doc.cats.get)\n",
                "    preds.append(pred_label)"
            ]
        },
        {
            "cell_type": "markdown",
            "id": "bcf50096",
            "metadata": {},
            "source": [
                "## Evaluation\n",
                "\n",
                "### Classification Report\n"
            ]
        },
        {
            "cell_type": "code",
            "execution_count": 8,
            "id": "e30ab282",
            "metadata": {},
            "outputs": [
                {
                    "name": "stdout",
                    "output_type": "stream",
                    "text": [
                        "              precision    recall  f1-score   support\n",
                        "\n",
                        "    negative       0.72      0.62      0.67       274\n",
                        "     neutral       0.83      0.88      0.85      1064\n",
                        "    positive       0.71      0.67      0.69       443\n",
                        "\n",
                        "    accuracy                           0.79      1781\n",
                        "   macro avg       0.75      0.72      0.74      1781\n",
                        "weighted avg       0.78      0.79      0.78      1781\n",
                        "\n"
                    ]
                }
            ],
            "source": [
                "y_true = val_df[\"label\"]\n",
                "y_pred = preds\n",
                "\n",
                "print(classification_report(y_true, y_pred))"
            ]
        },
        {
            "cell_type": "markdown",
            "id": "e7a880fd",
            "metadata": {},
            "source": [
                "### Confusion Matrix\n"
            ]
        },
        {
            "cell_type": "code",
            "execution_count": 9,
            "id": "2347b594",
            "metadata": {},
            "outputs": [
                {
                    "data": {
                        "image/png": "[encoded data removed]",
                        "text/plain": [
                            "<Figure size 625x500 with 2 Axes>"
                        ]
                    },
                    "metadata": {},
                    "output_type": "display_data"
                }
            ],
            "source": [
                "plot_confusion_matrix(\n",
                "    y_true,\n",
                "    y_pred,\n",
                "    labels=[\"positive\", \"neutral\", \"negative\"],\n",
                "    title=\"SpaCy TextCategorizer - Confusion Matrix\",\n",
                "    cmap=\"Greens\",\n",
                ")"
            ]
        },
        {
            "cell_type": "markdown",
            "id": "980a0bf7",
            "metadata": {},
            "source": [
                "### Per-Source Metrics\n"
            ]
        },
        {
            "cell_type": "code",
            "execution_count": 10,
            "id": "dbcc08cb",
            "metadata": {},
            "outputs": [
                {
                    "name": "stdout",
                    "output_type": "stream",
                    "text": [
                        "SpaCy TextCategorizer Per-Source Performance:\n",
                        "\n",
                        "FPB: Accuracy=0.749, Macro-F1=0.701\n",
                        "Twitter: Accuracy=0.818, Macro-F1=0.759\n",
                        "FiQA: Accuracy=0.602, Macro-F1=0.526\n"
                    ]
                }
            ],
            "source": [
                "spacy_custom_results = per_source_metrics(y_true, y_pred, val_df[\"source\"])\n",
                "print(\"SpaCy TextCategorizer Per-Source Performance:\\n\")\n",
                "for source, acc, f1 in spacy_custom_results:\n",
                "    print(f\"{source}: Accuracy={acc:.3f}, Macro-F1={f1:.3f}\")"
            ]
        },
        {
            "cell_type": "markdown",
            "id": "576439f0",
            "metadata": {},
            "source": [
                "## Save Predictions\n",
                "\n",
                "We'll save the predictions and metrics for later comparison.\n"
            ]
        },
        {
            "cell_type": "code",
            "execution_count": 11,
            "id": "eaf1ae12",
            "metadata": {},
            "outputs": [],
            "source": [
                "pd.DataFrame(\n",
                "    classification_report(y_true, y_pred, output_dict=True)\n",
                ").transpose().to_csv(\"../models/spacy/spacy-custom-preds.csv\")\n",
                "\n",
                "with open(\"../models/spacy/spacy-custom-preds.txt\", \"w\") as f:\n",
                "    for item in preds:\n",
                "        f.write(item + \"\\n\")"
            ]
        },
        {
            "cell_type": "markdown",
            "id": "30172b1c",
            "metadata": {},
            "source": [
                "## Summary\n",
                "\n",
                "This approach trained a **custom SpaCy sentiment classifier** from scratch on labeled financial text.\n",
                "\n",
                "-   Better suited than rule-based heuristics\n",
                "-   Fully reproducible on your domain data\n",
                "-   Still fast and easy to deploy\n",
                "\n",
                "Next: Let’s evaluate **Azure OpenAI o4-mini** in **[5_o4mini_inference.ipynb](5_o4mini_inference.ipynb)**.\n"
            ]
        }
    ],
    "metadata": {
        "kernelspec": {
            "display_name": "Python 3",
            "language": "python",
            "name": "python3"
        },
        "language_info": {
            "codemirror_mode": {
                "name": "ipython",
                "version": 3
            },
            "file_extension": ".py",
            "mimetype": "text/x-python",
            "name": "python",
            "nbconvert_exporter": "python",
            "pygments_lexer": "ipython3",
            "version": "3.13.3"
        }
    },
    "nbformat": 4,
    "nbformat_minor": 5
}

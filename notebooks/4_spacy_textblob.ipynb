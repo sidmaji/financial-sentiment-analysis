{
 "cells": [
  {
   "cell_type": "markdown",
   "id": "dc31b564",
   "metadata": {},
   "source": [
    "# Custom SpaCy TextCategorizer for Financial Sentiment\n",
    "\n",
    "In this notebook, we train a custom sentiment analysis model using SpaCy’s built-in `TextCategorizer` pipeline component.\n",
    "\n",
    "We’ll use our cleaned `train.csv` and `val.csv` datasets to train and evaluate this rule-free model.\n",
    "\n",
    "-   Fine-tuned on your labeled financial data\n",
    "-   Outputs one of: **positive**, **neutral**, **negative**\n"
   ]
  },
  {
   "cell_type": "code",
   "execution_count": 38,
   "id": "2e67316d",
   "metadata": {},
   "outputs": [],
   "source": [
    "import sys\n",
    "\n",
    "sys.path.append(\"../scripts\")\n",
    "\n",
    "import random\n",
    "\n",
    "import pandas as pd\n",
    "import spacy\n",
    "from metrics import per_source_metrics\n",
    "from plot_utils import plot_confusion_matrix\n",
    "from sklearn.metrics import classification_report\n",
    "from spacy.training.example import Example\n",
    "from spacy.util import minibatch"
   ]
  },
  {
   "cell_type": "markdown",
   "id": "11b183d4",
   "metadata": {},
   "source": [
    "## Load Training & Validation Data\n"
   ]
  },
  {
   "cell_type": "code",
   "execution_count": null,
   "id": "fa612b4e",
   "metadata": {},
   "outputs": [
    {
     "name": "stdout",
     "output_type": "stream",
     "text": [
      "Train size: 16088\n",
      "Validation size: 1788\n",
      "Train label breakdown:\n",
      " label\n",
      "neutral     9626\n",
      "positive    3998\n",
      "negative    2464\n",
      "Name: count, dtype: int64 \n",
      "\n"
     ]
    }
   ],
   "source": [
    "train_df = (\n",
    "    pd.read_csv(\"../data/processed/train.csv\").dropna(subset=[\"sentence\"]).astype(str)\n",
    ")\n",
    "val_df = pd.read_csv(\"../data/processed/val.csv\").astype(str)\n",
    "\n",
    "print(\"Train size:\", len(train_df))\n",
    "print(\"Validation size:\", len(val_df))\n",
    "print(\"Train label breakdown:\\n\", train_df[\"label\"].value_counts(), \"\\n\")"
   ]
  },
  {
   "cell_type": "markdown",
   "id": "4c170070",
   "metadata": {},
   "source": [
    "## Prepare Data for Training\n",
    "\n",
    "We structure the examples as required by spaCy's training API.\n"
   ]
  },
  {
   "cell_type": "code",
   "execution_count": null,
   "id": "dd1d005e",
   "metadata": {},
   "outputs": [
    {
     "name": "stdout",
     "output_type": "stream",
     "text": [
      "Loaded 16088 training examples.\n"
     ]
    }
   ],
   "source": [
    "def to_spacy_format(row):\n",
    "    cats = {\"positive\": 0.0, \"neutral\": 0.0, \"negative\": 0.0}\n",
    "    cats[row[\"label\"]] = 1.0\n",
    "    return (row[\"sentence\"], {\"cats\": cats})\n",
    "\n",
    "\n",
    "train_data = [to_spacy_format(row) for _, row in train_df.iterrows()]\n",
    "print(f\"Loaded {len(train_data)} training examples.\")"
   ]
  },
  {
   "cell_type": "markdown",
   "id": "076f5bd0",
   "metadata": {},
   "source": [
    "## Initialize SpaCy Model and TextCategorizer\n"
   ]
  },
  {
   "cell_type": "code",
   "execution_count": null,
   "id": "e5e9e98e",
   "metadata": {},
   "outputs": [
    {
     "data": {
      "text/plain": [
       "1"
      ]
     },
     "execution_count": 27,
     "metadata": {},
     "output_type": "execute_result"
    }
   ],
   "source": [
    "nlp = spacy.blank(\"en\")\n",
    "\n",
    "textcat = nlp.add_pipe(\"textcat\", last=True)\n",
    "\n",
    "textcat.add_label(\"positive\")\n",
    "textcat.add_label(\"neutral\")\n",
    "textcat.add_label(\"negative\")"
   ]
  },
  {
   "cell_type": "markdown",
   "id": "6bda4fb2",
   "metadata": {},
   "source": [
    "## Training Loop\n",
    "\n",
    "We use spaCy’s built-in training loop with minibatching.\n"
   ]
  },
  {
   "cell_type": "code",
   "execution_count": 37,
   "id": "1855c246",
   "metadata": {},
   "outputs": [
    {
     "name": "stdout",
     "output_type": "stream",
     "text": [
      "Epoch 1/5 | Loss: 77.2811\n",
      "Epoch 2/5 | Loss: 69.6487\n",
      "Epoch 3/5 | Loss: 63.1472\n",
      "Epoch 4/5 | Loss: 55.7638\n",
      "Epoch 5/5 | Loss: 50.6231\n"
     ]
    }
   ],
   "source": [
    "n_iter = 5\n",
    "batches = minibatch(train_data, size=8)\n",
    "\n",
    "for epoch in range(n_iter):\n",
    "    random.shuffle(train_data)\n",
    "    losses = {}\n",
    "\n",
    "    # Batch the examples\n",
    "    batches = minibatch(train_data, size=batch_size)\n",
    "\n",
    "    for batch in batches:\n",
    "        texts, annotations = zip(*batch)\n",
    "        examples = [\n",
    "            Example.from_dict(nlp.make_doc(text), ann)\n",
    "            for text, ann in zip(texts, annotations)\n",
    "        ]\n",
    "        nlp.update(examples, sgd=optimizer, drop=0.3, losses=losses)\n",
    "\n",
    "    print(f\"Epoch {epoch+1}/{n_iter} | Loss: {losses['textcat']:.4f}\")"
   ]
  },
  {
   "cell_type": "markdown",
   "id": "95dc75d4",
   "metadata": {},
   "source": [
    "## Save Trained Model\n"
   ]
  },
  {
   "cell_type": "code",
   "execution_count": 39,
   "id": "d9c1b38c",
   "metadata": {},
   "outputs": [],
   "source": [
    "nlp.to_disk(\"../models/spacy/spacy_custom\")"
   ]
  },
  {
   "cell_type": "markdown",
   "id": "f7ecac5f",
   "metadata": {},
   "source": [
    "## Run Inference on Validation Set\n"
   ]
  },
  {
   "cell_type": "code",
   "execution_count": 40,
   "id": "11a0d9e6",
   "metadata": {},
   "outputs": [],
   "source": [
    "nlp = spacy.load(\"../models/spacy/spacy_custom\")\n",
    "\n",
    "preds = []\n",
    "for text in val_df[\"sentence\"]:\n",
    "    doc = nlp(text)\n",
    "    pred_label = max(doc.cats, key=doc.cats.get)\n",
    "    preds.append(pred_label)"
   ]
  },
  {
   "cell_type": "markdown",
   "id": "bcf50096",
   "metadata": {},
   "source": [
    "## Evaluation\n",
    "\n",
    "### Classification Report\n"
   ]
  },
  {
   "cell_type": "code",
   "execution_count": 41,
   "id": "e30ab282",
   "metadata": {},
   "outputs": [
    {
     "name": "stdout",
     "output_type": "stream",
     "text": [
      "              precision    recall  f1-score   support\n",
      "\n",
      "    negative       0.68      0.66      0.67       274\n",
      "     neutral       0.84      0.85      0.85      1070\n",
      "    positive       0.70      0.68      0.69       444\n",
      "\n",
      "    accuracy                           0.78      1788\n",
      "   macro avg       0.74      0.73      0.74      1788\n",
      "weighted avg       0.78      0.78      0.78      1788\n",
      "\n"
     ]
    }
   ],
   "source": [
    "y_true = val_df[\"label\"]\n",
    "y_pred = preds\n",
    "\n",
    "print(classification_report(y_true, y_pred))"
   ]
  },
  {
   "cell_type": "markdown",
   "id": "e7a880fd",
   "metadata": {},
   "source": [
    "### Confusion Matrix\n"
   ]
  },
  {
   "cell_type": "code",
   "execution_count": 42,
   "id": "2347b594",
   "metadata": {},
   "outputs": [
    {
     "data": {
      "image/png": "[encoded data removed]",
      "text/plain": [
       "<Figure size 625x500 with 2 Axes>"
      ]
     },
     "metadata": {},
     "output_type": "display_data"
    }
   ],
   "source": [
    "plot_confusion_matrix(\n",
    "    y_true,\n",
    "    y_pred,\n",
    "    labels=[\"positive\", \"neutral\", \"negative\"],\n",
    "    title=\"SpaCy TextCategorizer - Confusion Matrix\",\n",
    "    cmap=\"Greens\",\n",
    ")"
   ]
  },
  {
   "cell_type": "markdown",
   "id": "980a0bf7",
   "metadata": {},
   "source": [
    "### Per-Source Metrics\n"
   ]
  },
  {
   "cell_type": "code",
   "execution_count": 43,
   "id": "dbcc08cb",
   "metadata": {},
   "outputs": [
    {
     "name": "stdout",
     "output_type": "stream",
     "text": [
      "SpaCy TextCategorizer Per-Source Performance:\n",
      "\n",
      "FPB: Accuracy=0.773, Macro-F1=0.744\n",
      "Twitter: Accuracy=0.801, Macro-F1=0.742\n",
      "FiQA: Accuracy=0.631, Macro-F1=0.523\n"
     ]
    }
   ],
   "source": [
    "spacy_custom_results = per_source_metrics(y_true, y_pred, val_df[\"source\"])\n",
    "print(\"SpaCy TextCategorizer Per-Source Performance:\\n\")\n",
    "for source, acc, f1 in spacy_custom_results:\n",
    "    print(f\"{source}: Accuracy={acc:.3f}, Macro-F1={f1:.3f}\")"
   ]
  },
  {
   "cell_type": "markdown",
   "id": "576439f0",
   "metadata": {},
   "source": [
    "## Save Predictions\n",
    "\n",
    "We'll save the predictions and metrics for later comparison.\n"
   ]
  },
  {
   "cell_type": "code",
   "execution_count": 44,
   "id": "eaf1ae12",
   "metadata": {},
   "outputs": [],
   "source": [
    "pd.DataFrame(\n",
    "    classification_report(y_true, y_pred, output_dict=True)\n",
    ").transpose().to_csv(\"../models/spacy/spacy-custom-preds.csv\")\n",
    "\n",
    "with open(\"../models/spacy/spacy-custom-preds.txt\", \"w\") as f:\n",
    "    for item in preds:\n",
    "        f.write(item + \"\\n\")"
   ]
  },
  {
   "cell_type": "markdown",
   "id": "30172b1c",
   "metadata": {},
   "source": [
    "## Summary\n",
    "\n",
    "This approach trained a **custom SpaCy sentiment classifier** from scratch on labeled financial text.\n",
    "\n",
    "-   Better suited than rule-based heuristics\n",
    "-   Fully reproducible on your domain data\n",
    "-   Still fast and easy to deploy\n",
    "\n",
    "Next: Let’s evaluate **Azure OpenAI o4-mini** in **[5_o4mini_inference.ipynb](5_o4mini_inference.ipynb)**.\n"
   ]
  }
 ],
 "metadata": {
  "kernelspec": {
   "display_name": "Python 3",
   "language": "python",
   "name": "python3"
  },
  "language_info": {
   "codemirror_mode": {
    "name": "ipython",
    "version": 3
   },
   "file_extension": ".py",
   "mimetype": "text/x-python",
   "name": "python",
   "nbconvert_exporter": "python",
   "pygments_lexer": "ipython3",
   "version": "3.13.3"
  }
 },
 "nbformat": 4,
 "nbformat_minor": 5
}

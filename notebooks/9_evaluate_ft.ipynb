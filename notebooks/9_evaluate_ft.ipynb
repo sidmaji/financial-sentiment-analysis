{
 "cells": [
  {
   "cell_type": "code",
   "execution_count": 2,
   "id": "793023bf",
   "metadata": {},
   "outputs": [],
   "source": [
    "import os\n",
    "import sys\n",
    "\n",
    "sys.path.append(\"../scripts\")\n",
    "\n",
    "import pandas as pd\n",
    "from metrics import per_source_metrics\n",
    "from openai import AzureOpenAI\n",
    "from plot_utils import plot_confusion_matrix\n",
    "from sklearn.metrics import classification_report, f1_score\n",
    "from tqdm import tqdm"
   ]
  },
  {
   "cell_type": "code",
   "execution_count": null,
   "id": "f03dd0e9",
   "metadata": {},
   "outputs": [],
   "source": [
    "model_deployment_name = \"gpt-4.1-mini-fsa-01\""
   ]
  },
  {
   "cell_type": "code",
   "execution_count": null,
   "id": "182d9762",
   "metadata": {},
   "outputs": [],
   "source": [
    "client = AzureOpenAI(\n",
    "    azure_endpoint=os.getenv(\"AZURE_ENDPOINT\"),\n",
    "    api_key=os.getenv(\"AZURE_API_KEY\"),\n",
    "    api_version=\"2024-12-01-preview\",\n",
    ")"
   ]
  },
  {
   "cell_type": "code",
   "execution_count": 3,
   "id": "7901dcbf",
   "metadata": {},
   "outputs": [],
   "source": [
    "val_df = pd.read_csv(\"../data/processed/val.csv\")"
   ]
  },
  {
   "cell_type": "code",
   "execution_count": 4,
   "id": "680c34b0",
   "metadata": {},
   "outputs": [],
   "source": [
    "prompts = [\n",
    "    {\n",
    "        \"role\": \"system\",\n",
    "        \"content\": \"You are a financial sentiment classifier. Respond with one word: neutral, positive, or negative.\",\n",
    "    }\n",
    "]\n",
    "\n",
    "sentences = val_df[\"sentence\"].tolist()\n",
    "true_labels = val_df[\"label\"].tolist()"
   ]
  },
  {
   "cell_type": "code",
   "execution_count": null,
   "id": "fdc85ed5",
   "metadata": {},
   "outputs": [
    {
     "name": "stderr",
     "output_type": "stream",
     "text": [
      "1781it [36:07,  1.22s/it]\n"
     ]
    }
   ],
   "source": [
    "preds = []\n",
    "\n",
    "for i, sentence in tqdm(enumerate(sentences)):\n",
    "    response = client.chat.completions.create(\n",
    "        messages=prompts\n",
    "        + [\n",
    "            {\n",
    "                \"role\": \"user\",\n",
    "                \"content\": f\"Classify the sentiment of this sentence: {sentence}\",\n",
    "            }\n",
    "        ],\n",
    "        max_completion_tokens=10000,\n",
    "        model=model_deployment_name,\n",
    "    )\n",
    "    result = response.choices[0].message.content.strip().lower()\n",
    "    preds.append(result)\n",
    "\n",
    "    # print(f\"{i}\\ngpt-4.1-mini-ft: {result}\\nvalidation: {true_labels[i]}\\n\")"
   ]
  },
  {
   "cell_type": "code",
   "execution_count": null,
   "id": "8b777a28",
   "metadata": {},
   "outputs": [],
   "source": [
    "# preds = []\n",
    "\n",
    "# for sentence in tqdm(sentences):\n",
    "#     response = client.chat.completions.create(\n",
    "#         messages=prompts\n",
    "#         + [\n",
    "#             {\n",
    "#                 \"role\": \"user\",\n",
    "#                 \"content\": f\"Classify the sentiment of this sentence: {sentence}\",\n",
    "#             }\n",
    "#         ],\n",
    "#         temperature=0.0,\n",
    "#         max_tokens=5,\n",
    "#         model=model_deployment_name,\n",
    "#     )\n",
    "#     result = response.choices[0].message.content.strip().lower()\n",
    "#     preds.append(result)\n",
    "\n",
    "#     # print(f\"{i}\\ngpt-4.1-mini-ft: {result}\\nvalidation: {true_labels[i]}\\n\")"
   ]
  },
  {
   "cell_type": "code",
   "execution_count": null,
   "id": "12b8ece5",
   "metadata": {},
   "outputs": [],
   "source": [
    "with open(\"../models/gpt-4.1/gpt-4.1-mini-ft-preds.txt\", \"w\") as f:\n",
    "    for label in preds:\n",
    "        f.write(label + \"\\n\")"
   ]
  },
  {
   "cell_type": "code",
   "execution_count": null,
   "id": "3b8c42bd",
   "metadata": {},
   "outputs": [
    {
     "name": "stdout",
     "output_type": "stream",
     "text": [
      "              precision    recall  f1-score   support\n",
      "\n",
      "    negative       0.88      0.81      0.85       274\n",
      "     neutral       0.89      0.93      0.91      1064\n",
      "    positive       0.86      0.81      0.84       443\n",
      "\n",
      "    accuracy                           0.88      1781\n",
      "   macro avg       0.88      0.85      0.86      1781\n",
      "weighted avg       0.88      0.88      0.88      1781\n",
      "\n"
     ]
    }
   ],
   "source": [
    "report = classification_report(true_labels, preds)\n",
    "print(report)"
   ]
  },
  {
   "cell_type": "code",
   "execution_count": null,
   "id": "35be5e31",
   "metadata": {},
   "outputs": [
    {
     "data": {
      "image/png": "[encoded data removed]",
      "text/plain": [
       "<Figure size 625x500 with 2 Axes>"
      ]
     },
     "metadata": {},
     "output_type": "display_data"
    }
   ],
   "source": [
    "plot_confusion_matrix(\n",
    "    true_labels,\n",
    "    preds,\n",
    "    labels=[\"positive\", \"neutral\", \"negative\"],\n",
    "    title=\"o4-mini - Confusion Matrix\",\n",
    "    cmap=\"Oranges\",\n",
    ")"
   ]
  },
  {
   "cell_type": "code",
   "execution_count": null,
   "id": "9eba30b7",
   "metadata": {},
   "outputs": [
    {
     "name": "stdout",
     "output_type": "stream",
     "text": [
      "GPT-4.1-mini-fine-tuned Per-Source Performance:\n",
      "\n",
      "FPB: Accuracy=0.862, Macro-F1=0.858\n",
      "Twitter: Accuracy=0.902, Macro-F1=0.873\n",
      "FiQA: Accuracy=0.741, Macro-F1=0.677\n"
     ]
    }
   ],
   "source": [
    "per_source_results = per_source_metrics(true_labels, preds, val_df[\"source\"])\n",
    "print(\"GPT-4.1-mini-fine-tuned Per-Source Performance:\\n\")\n",
    "for source, acc, f1 in per_source_results:\n",
    "    print(f\"{source}: Accuracy={acc:.3f}, Macro-F1={f1:.3f}\")"
   ]
  },
  {
   "cell_type": "code",
   "execution_count": 30,
   "id": "75f210f1",
   "metadata": {},
   "outputs": [
    {
     "data": {
      "text/plain": [
       "0.8632475224199218"
      ]
     },
     "execution_count": 30,
     "metadata": {},
     "output_type": "execute_result"
    }
   ],
   "source": [
    "f1_score(true_labels, preds, average=\"macro\")"
   ]
  },
  {
   "cell_type": "code",
   "execution_count": 12,
   "id": "cb156283",
   "metadata": {},
   "outputs": [],
   "source": [
    "pd.DataFrame(\n",
    "    classification_report(true_labels, preds, output_dict=True)\n",
    ").transpose().to_csv(\"../models/gpt-4.1/gpt-4.1-mini-preds.csv\")"
   ]
  }
 ],
 "metadata": {
  "kernelspec": {
   "display_name": "Python 3",
   "language": "python",
   "name": "python3"
  },
  "language_info": {
   "codemirror_mode": {
    "name": "ipython",
    "version": 3
   },
   "file_extension": ".py",
   "mimetype": "text/x-python",
   "name": "python",
   "nbconvert_exporter": "python",
   "pygments_lexer": "ipython3",
   "version": "3.13.3"
  }
 },
 "nbformat": 4,
 "nbformat_minor": 5
}

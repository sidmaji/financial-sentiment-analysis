{
 "cells": [
  {
   "cell_type": "code",
   "execution_count": null,
   "id": "8cfd991e",
   "metadata": {},
   "outputs": [],
   "source": [
    "import json\n",
    "import os\n",
    "\n",
    "import requests\n",
    "from openai import AzureOpenAI"
   ]
  },
  {
   "cell_type": "code",
   "execution_count": null,
   "id": "6ff9d185",
   "metadata": {},
   "outputs": [],
   "source": [
    "token = os.getenv(\"TOKEN\")\n",
    "subscription = os.getenv(\"SUBSCRIPTION_ID\")\n",
    "resource_group = os.getenv(\"RESOURCE_GROUP\")\n",
    "resource_name = os.getenv(\"RESOURCE_NAME\")\n",
    "model_deployment_name = \"gpt-4.1-mini-fsa-01\"  # custom deployment name that you will use to reference the model when making inference calls."
   ]
  },
  {
   "cell_type": "code",
   "execution_count": null,
   "id": "331701fb",
   "metadata": {},
   "outputs": [],
   "source": [
    "deploy_params = {\"api-version\": \"2024-10-01\"}\n",
    "deploy_headers = {\n",
    "    \"Authorization\": \"Bearer {}\".format(token),\n",
    "    \"Content-Type\": \"application/json\",\n",
    "}\n",
    "\n",
    "deploy_data = {\n",
    "    \"sku\": {\"name\": \"developertier\", \"capacity\": 50},\n",
    "    \"properties\": {\n",
    "        \"model\": {\n",
    "            \"format\": \"OpenAI\",\n",
    "            \"name\": \"gpt-4.1-mini-2025-04-14.ft-9e2dec8fc72c499da71bc5668f52a1be-001\",  # retrieve this value from the previous call, it will look like o4-mini-fsa-01.ft-b044a9d3cf9c4228b5d393567f693b83\n",
    "            \"version\": \"1\",\n",
    "        }\n",
    "    },\n",
    "}\n",
    "deploy_data = json.dumps(deploy_data)"
   ]
  },
  {
   "cell_type": "code",
   "execution_count": null,
   "id": "855c434e",
   "metadata": {},
   "outputs": [
    {
     "name": "stdout",
     "output_type": "stream",
     "text": [
      "Creating a new deployment...\n",
      "<Response [201]>\n",
      "Created\n",
      "{'id': '/subscriptions/b5a4f554-5572-486f-8de8-7624c85141b4/resourceGroups/SentimentLLM-UTD-Sweden/providers/Microsoft.CognitiveServices/accounts/SentimentLLM-UTD-Sweden/deployments/gpt-4.1-mini-fsa-01', 'type': 'Microsoft.CognitiveServices/accounts/deployments', 'name': 'gpt-4.1-mini-fsa-01', 'sku': {'name': 'developertier', 'capacity': 50}, 'properties': {'model': {'format': 'OpenAI', 'name': 'gpt-4.1-mini-2025-04-14.ft-9e2dec8fc72c499da71bc5668f52a1be-001', 'version': '1'}, 'versionUpgradeOption': 'NoAutoUpgrade', 'currentCapacity': 50, 'capabilities': {'chatCompletion': 'true', 'area': 'EUR', 'responses': 'true', 'assistants': 'true'}, 'provisioningState': 'Creating', 'rateLimits': [{'key': 'request', 'renewalPeriod': 60, 'count': 50}, {'key': 'token', 'renewalPeriod': 60, 'count': 50000}]}, 'systemData': {'createdBy': 'Priyanath_Maji@bcbstx.com', 'createdByType': 'User', 'createdAt': '2025-07-20T15:34:59.9277736Z', 'lastModifiedBy': 'Priyanath_Maji@bcbstx.com', 'lastModifiedByType': 'User', 'lastModifiedAt': '2025-07-20T15:34:59.9277736Z'}, 'etag': '\"48a9c909-0f5e-4f0c-8146-6ef30d2db168\"'}\n"
     ]
    }
   ],
   "source": [
    "request_url = f\"https://management.azure.com/subscriptions/{subscription}/resourceGroups/{resource_group}/providers/Microsoft.CognitiveServices/accounts/{resource_name}/deployments/{model_deployment_name}\"\n",
    "\n",
    "print(\"Creating a new deployment...\")\n",
    "\n",
    "r = requests.put(\n",
    "    request_url, params=deploy_params, headers=deploy_headers, data=deploy_data\n",
    ")\n",
    "\n",
    "print(r)\n",
    "print(r.reason)\n",
    "print(r.json())"
   ]
  },
  {
   "cell_type": "code",
   "execution_count": 16,
   "id": "de35bc51",
   "metadata": {},
   "outputs": [],
   "source": [
    "client = AzureOpenAI(\n",
    "    azure_endpoint=os.getenv(\"AZURE_ENDPOINT\"),\n",
    "    api_key=os.getenv(\"AZURE_API_KEY\"),\n",
    "    api_version=\"2024-12-01-preview\",\n",
    ")"
   ]
  },
  {
   "cell_type": "code",
   "execution_count": 17,
   "id": "b2825236",
   "metadata": {},
   "outputs": [
    {
     "name": "stdout",
     "output_type": "stream",
     "text": [
      "Yes, other Azure AI services also support customer managed keys. This means you can use your own encryption keys to encrypt your data when using various Azure AI services.\n"
     ]
    }
   ],
   "source": [
    "response = client.chat.completions.create(\n",
    "    model=model_deployment_name,  # model = \"Custom deployment name you chose for your fine-tuning model\"\n",
    "    messages=[\n",
    "        {\"role\": \"system\", \"content\": \"You are a helpful assistant.\"},\n",
    "        {\"role\": \"user\", \"content\": \"Does Azure OpenAI support customer managed keys?\"},\n",
    "        {\n",
    "            \"role\": \"assistant\",\n",
    "            \"content\": \"Yes, customer managed keys are supported by Azure OpenAI.\",\n",
    "        },\n",
    "        {\"role\": \"user\", \"content\": \"Do other Azure AI services support this too?\"},\n",
    "    ],\n",
    ")\n",
    "\n",
    "print(response.choices[0].message.content)"
   ]
  }
 ],
 "metadata": {
  "kernelspec": {
   "display_name": "Python 3",
   "language": "python",
   "name": "python3"
  },
  "language_info": {
   "codemirror_mode": {
    "name": "ipython",
    "version": 3
   },
   "file_extension": ".py",
   "mimetype": "text/x-python",
   "name": "python",
   "nbconvert_exporter": "python",
   "pygments_lexer": "ipython3",
   "version": "3.13.3"
  }
 },
 "nbformat": 4,
 "nbformat_minor": 5
}

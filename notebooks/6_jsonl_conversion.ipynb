{
 "cells": [
  {
   "cell_type": "code",
   "execution_count": null,
   "id": "20dca7c2",
   "metadata": {},
   "outputs": [],
   "source": [
    "import json\n",
    "\n",
    "import pandas as pd"
   ]
  },
  {
   "cell_type": "code",
   "execution_count": null,
   "id": "82f1f4b9",
   "metadata": {},
   "outputs": [],
   "source": [
    "train_df = pd.read_csv(\"../data/processed/train.csv\")\n",
    "val_df = pd.read_csv(\"../data/processed/val.csv\")"
   ]
  },
  {
   "cell_type": "code",
   "execution_count": null,
   "id": "1f24d325",
   "metadata": {},
   "outputs": [],
   "source": [
    "system_prompt = \"You are a financial sentiment classifier. Respond with one word: neutral, positive, or negative.\""
   ]
  },
  {
   "cell_type": "code",
   "execution_count": null,
   "id": "1fd78906",
   "metadata": {},
   "outputs": [],
   "source": [
    "with open(\"../data/processed/train.jsonl\", \"w\", encoding=\"utf-8-sig\") as out_file:\n",
    "    for _, row in train_df.iterrows():\n",
    "        sentence = row[\"sentence\"]\n",
    "        label = row[\"label\"].lower().strip()\n",
    "\n",
    "        item = {\n",
    "            \"messages\": [\n",
    "                {\"role\": \"system\", \"content\": system_prompt},\n",
    "                {\n",
    "                    \"role\": \"user\",\n",
    "                    \"content\": f\"Classify the sentiment of this sentence: {sentence}\",\n",
    "                },\n",
    "                {\"role\": \"assistant\", \"content\": label},\n",
    "            ]\n",
    "        }\n",
    "        json.dump(item, out_file, ensure_ascii=False)\n",
    "        out_file.write(\"\\n\")"
   ]
  },
  {
   "cell_type": "code",
   "execution_count": null,
   "id": "bd77ad20",
   "metadata": {},
   "outputs": [],
   "source": [
    "with open(\"../data/processed/val.jsonl\", \"w\", encoding=\"utf-8-sig\") as out_file:\n",
    "    for _, row in val_df.iterrows():\n",
    "        sentence = row[\"sentence\"]\n",
    "        label = row[\"label\"].lower().strip()\n",
    "\n",
    "        item = {\n",
    "            \"messages\": [\n",
    "                {\"role\": \"system\", \"content\": system_prompt},\n",
    "                {\n",
    "                    \"role\": \"user\",\n",
    "                    \"content\": f\"Classify the sentiment of this sentence: {sentence}\",\n",
    "                },\n",
    "                {\"role\": \"assistant\", \"content\": label},\n",
    "            ]\n",
    "        }\n",
    "        json.dump(item, out_file, ensure_ascii=False)\n",
    "        out_file.write(\"\\n\")"
   ]
  }
 ],
 "metadata": {
  "kernelspec": {
   "display_name": "Python 3",
   "language": "python",
   "name": "python3"
  },
  "language_info": {
   "codemirror_mode": {
    "name": "ipython",
    "version": 3
   },
   "file_extension": ".py",
   "mimetype": "text/x-python",
   "name": "python",
   "nbconvert_exporter": "python",
   "pygments_lexer": "ipython3",
   "version": "3.13.3"
  }
 },
 "nbformat": 4,
 "nbformat_minor": 5
}

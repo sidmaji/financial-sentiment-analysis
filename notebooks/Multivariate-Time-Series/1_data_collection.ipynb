{
  "cells": [
    {
      "cell_type": "code",
      "execution_count": null,
      "metadata": {},
      "outputs": [],
      "source": [
        "# !pip install finnhub-python"
      ]
    },
    {
      "cell_type": "code",
      "execution_count": 2,
      "metadata": {
        "id": "Qr7ISm7el1hc"
      },
      "outputs": [],
      "source": [
        "import os\n",
        "from datetime import datetime, timedelta\n",
        "\n",
        "import finnhub\n",
        "import numpy as np\n",
        "import pandas as pd\n",
        "import yfinance as yf\n",
        "\n",
        "# from google.colab import userdata"
      ]
    },
    {
      "cell_type": "code",
      "execution_count": 3,
      "metadata": {
        "id": "iO5_4zee8dlj"
      },
      "outputs": [],
      "source": [
        "np.random.seed(42)\n",
        "ticker = \"NVDA\"\n",
        "end = datetime.today() - timedelta(days=1)\n",
        "start = end - timedelta(days=30)\n",
        "start_str, end_str = start.strftime(\"%Y-%m-%d\"), end.strftime(\"%Y-%m-%d\")"
      ]
    },
    {
      "cell_type": "code",
      "execution_count": 4,
      "metadata": {
        "colab": {
          "base_uri": "https://localhost:8080/",
          "height": 677
        },
        "id": "T0_YHWmd8fYi",
        "outputId": "ad0b3f3a-de88-4dfb-a51f-7f404f5e348b"
      },
      "outputs": [
        {
          "data": {
            "text/html": [
              "<div>\n",
              "<style scoped>\n",
              "    .dataframe tbody tr th:only-of-type {\n",
              "        vertical-align: middle;\n",
              "    }\n",
              "\n",
              "    .dataframe tbody tr th {\n",
              "        vertical-align: top;\n",
              "    }\n",
              "\n",
              "    .dataframe thead th {\n",
              "        text-align: right;\n",
              "    }\n",
              "</style>\n",
              "<table border=\"1\" class=\"dataframe\">\n",
              "  <thead>\n",
              "    <tr style=\"text-align: right;\">\n",
              "      <th></th>\n",
              "      <th>date</th>\n",
              "      <th>price</th>\n",
              "    </tr>\n",
              "  </thead>\n",
              "  <tbody>\n",
              "    <tr>\n",
              "      <th>0</th>\n",
              "      <td>2025-06-23</td>\n",
              "      <td>144.169998</td>\n",
              "    </tr>\n",
              "    <tr>\n",
              "      <th>1</th>\n",
              "      <td>2025-06-24</td>\n",
              "      <td>147.899994</td>\n",
              "    </tr>\n",
              "    <tr>\n",
              "      <th>2</th>\n",
              "      <td>2025-06-25</td>\n",
              "      <td>154.309998</td>\n",
              "    </tr>\n",
              "    <tr>\n",
              "      <th>3</th>\n",
              "      <td>2025-06-26</td>\n",
              "      <td>155.020004</td>\n",
              "    </tr>\n",
              "    <tr>\n",
              "      <th>4</th>\n",
              "      <td>2025-06-27</td>\n",
              "      <td>157.750000</td>\n",
              "    </tr>\n",
              "    <tr>\n",
              "      <th>5</th>\n",
              "      <td>2025-06-30</td>\n",
              "      <td>157.990005</td>\n",
              "    </tr>\n",
              "    <tr>\n",
              "      <th>6</th>\n",
              "      <td>2025-07-01</td>\n",
              "      <td>153.300003</td>\n",
              "    </tr>\n",
              "    <tr>\n",
              "      <th>7</th>\n",
              "      <td>2025-07-02</td>\n",
              "      <td>157.250000</td>\n",
              "    </tr>\n",
              "    <tr>\n",
              "      <th>8</th>\n",
              "      <td>2025-07-03</td>\n",
              "      <td>159.339996</td>\n",
              "    </tr>\n",
              "    <tr>\n",
              "      <th>9</th>\n",
              "      <td>2025-07-07</td>\n",
              "      <td>158.240005</td>\n",
              "    </tr>\n",
              "    <tr>\n",
              "      <th>10</th>\n",
              "      <td>2025-07-08</td>\n",
              "      <td>160.000000</td>\n",
              "    </tr>\n",
              "    <tr>\n",
              "      <th>11</th>\n",
              "      <td>2025-07-09</td>\n",
              "      <td>162.880005</td>\n",
              "    </tr>\n",
              "    <tr>\n",
              "      <th>12</th>\n",
              "      <td>2025-07-10</td>\n",
              "      <td>164.100006</td>\n",
              "    </tr>\n",
              "    <tr>\n",
              "      <th>13</th>\n",
              "      <td>2025-07-11</td>\n",
              "      <td>164.919998</td>\n",
              "    </tr>\n",
              "    <tr>\n",
              "      <th>14</th>\n",
              "      <td>2025-07-14</td>\n",
              "      <td>164.070007</td>\n",
              "    </tr>\n",
              "    <tr>\n",
              "      <th>15</th>\n",
              "      <td>2025-07-15</td>\n",
              "      <td>170.699997</td>\n",
              "    </tr>\n",
              "    <tr>\n",
              "      <th>16</th>\n",
              "      <td>2025-07-16</td>\n",
              "      <td>171.369995</td>\n",
              "    </tr>\n",
              "    <tr>\n",
              "      <th>17</th>\n",
              "      <td>2025-07-17</td>\n",
              "      <td>173.000000</td>\n",
              "    </tr>\n",
              "    <tr>\n",
              "      <th>18</th>\n",
              "      <td>2025-07-18</td>\n",
              "      <td>172.410004</td>\n",
              "    </tr>\n",
              "    <tr>\n",
              "      <th>19</th>\n",
              "      <td>2025-07-21</td>\n",
              "      <td>171.380005</td>\n",
              "    </tr>\n",
              "  </tbody>\n",
              "</table>\n",
              "</div>"
            ],
            "text/plain": [
              "         date       price\n",
              "0  2025-06-23  144.169998\n",
              "1  2025-06-24  147.899994\n",
              "2  2025-06-25  154.309998\n",
              "3  2025-06-26  155.020004\n",
              "4  2025-06-27  157.750000\n",
              "5  2025-06-30  157.990005\n",
              "6  2025-07-01  153.300003\n",
              "7  2025-07-02  157.250000\n",
              "8  2025-07-03  159.339996\n",
              "9  2025-07-07  158.240005\n",
              "10 2025-07-08  160.000000\n",
              "11 2025-07-09  162.880005\n",
              "12 2025-07-10  164.100006\n",
              "13 2025-07-11  164.919998\n",
              "14 2025-07-14  164.070007\n",
              "15 2025-07-15  170.699997\n",
              "16 2025-07-16  171.369995\n",
              "17 2025-07-17  173.000000\n",
              "18 2025-07-18  172.410004\n",
              "19 2025-07-21  171.380005"
            ]
          },
          "execution_count": 4,
          "metadata": {},
          "output_type": "execute_result"
        }
      ],
      "source": [
        "stock_df = yf.download(\n",
        "    ticker, start=start_str, end=end, auto_adjust=True, progress=False\n",
        ")[[\"Close\"]].reset_index()\n",
        "stock_df.columns = [\"date\", \"price\"]\n",
        "stock_df"
      ]
    },
    {
      "cell_type": "code",
      "execution_count": 6,
      "metadata": {
        "id": "rYB0kZyE8gYC"
      },
      "outputs": [],
      "source": [
        "finnhub_client = finnhub.Client(api_key=os.getenv(\"FINNHUB_API_KEY\"))"
      ]
    },
    {
      "cell_type": "code",
      "execution_count": 7,
      "metadata": {
        "id": "4Mp2QSbo_76x"
      },
      "outputs": [],
      "source": [
        "def fetch_news_in_chunks(ticker, start_date, end_date, client, chunk_days=7):\n",
        "    all_news = []\n",
        "    current = start_date\n",
        "    while current <= end_date:\n",
        "        chunk_end = min(current + timedelta(days=chunk_days - 1), end_date)\n",
        "        news_chunk = client.company_news(\n",
        "            ticker,\n",
        "            _from=current.strftime(\"%Y-%m-%d\"),\n",
        "            to=chunk_end.strftime(\"%Y-%m-%d\"),\n",
        "        )\n",
        "        all_news.extend(news_chunk)\n",
        "        current = chunk_end + timedelta(days=1)\n",
        "    return pd.DataFrame(all_news)"
      ]
    },
    {
      "cell_type": "code",
      "execution_count": null,
      "metadata": {
        "id": "zJ5DNfRxAvey"
      },
      "outputs": [],
      "source": [
        "start_dt = datetime.strptime(start_str, \"%Y-%m-%d\").date()\n",
        "end_dt = (stock_df[\"date\"].max() - timedelta(days=1)).date()\n",
        "news = fetch_news_in_chunks(ticker, start_dt, end_dt, finnhub_client, 3)"
      ]
    },
    {
      "cell_type": "code",
      "execution_count": 37,
      "metadata": {
        "id": "3NImahZa8hgh"
      },
      "outputs": [],
      "source": [
        "news_df = news[[\"datetime\", \"headline\", \"summary\"]].copy()\n",
        "news_df[\"datetime\"] = pd.to_datetime(news_df[\"datetime\"], unit=\"s\")\n",
        "news_df[\"assigned_date\"] = news_df[\"datetime\"].apply(\n",
        "    lambda x: (x + timedelta(days=1)).date() if x.hour >= 16 else x.date()\n",
        ")"
      ]
    },
    {
      "cell_type": "code",
      "execution_count": 38,
      "metadata": {
        "colab": {
          "base_uri": "https://localhost:8080/",
          "height": 206
        },
        "id": "9GkLfc2B_yoj",
        "outputId": "4a3df51d-4285-448c-86cf-cca2a537e4e2"
      },
      "outputs": [
        {
          "data": {
            "text/html": [
              "<div>\n",
              "<style scoped>\n",
              "    .dataframe tbody tr th:only-of-type {\n",
              "        vertical-align: middle;\n",
              "    }\n",
              "\n",
              "    .dataframe tbody tr th {\n",
              "        vertical-align: top;\n",
              "    }\n",
              "\n",
              "    .dataframe thead th {\n",
              "        text-align: right;\n",
              "    }\n",
              "</style>\n",
              "<table border=\"1\" class=\"dataframe\">\n",
              "  <thead>\n",
              "    <tr style=\"text-align: right;\">\n",
              "      <th></th>\n",
              "      <th>datetime</th>\n",
              "      <th>headline</th>\n",
              "      <th>summary</th>\n",
              "      <th>assigned_date</th>\n",
              "    </tr>\n",
              "  </thead>\n",
              "  <tbody>\n",
              "    <tr>\n",
              "      <th>0</th>\n",
              "      <td>2025-06-24 00:00:00</td>\n",
              "      <td>Better Artificial Intelligence Stock: BigBear....</td>\n",
              "      <td>Nations are ramping up artificial intelligence...</td>\n",
              "      <td>2025-06-24</td>\n",
              "    </tr>\n",
              "    <tr>\n",
              "      <th>1</th>\n",
              "      <td>2025-06-23 20:31:41</td>\n",
              "      <td>3 Things to Watch Ahead of the Nvidia Annual M...</td>\n",
              "      <td>Nvidia shares are in focus ahead of the AI dar...</td>\n",
              "      <td>2025-06-24</td>\n",
              "    </tr>\n",
              "    <tr>\n",
              "      <th>2</th>\n",
              "      <td>2025-06-23 20:00:06</td>\n",
              "      <td>AI Giants Nvidia, Meta And More Fuel This Powe...</td>\n",
              "      <td>As AI leaders like Nvidia and Meta drive deman...</td>\n",
              "      <td>2025-06-24</td>\n",
              "    </tr>\n",
              "    <tr>\n",
              "      <th>3</th>\n",
              "      <td>2025-06-23 19:53:00</td>\n",
              "      <td>NVIDIA Forges Strategic AI Partnerships, Repor...</td>\n",
              "      <td>NVIDIA Corporation (NASDAQ:NVDA) is one of the...</td>\n",
              "      <td>2025-06-24</td>\n",
              "    </tr>\n",
              "    <tr>\n",
              "      <th>4</th>\n",
              "      <td>2025-06-23 19:45:00</td>\n",
              "      <td>US stocks aren’t safe in heated global tension...</td>\n",
              "      <td>Bitcoin's volatility drops below major U.S. st...</td>\n",
              "      <td>2025-06-24</td>\n",
              "    </tr>\n",
              "  </tbody>\n",
              "</table>\n",
              "</div>"
            ],
            "text/plain": [
              "             datetime                                           headline  \\\n",
              "0 2025-06-24 00:00:00  Better Artificial Intelligence Stock: BigBear....   \n",
              "1 2025-06-23 20:31:41  3 Things to Watch Ahead of the Nvidia Annual M...   \n",
              "2 2025-06-23 20:00:06  AI Giants Nvidia, Meta And More Fuel This Powe...   \n",
              "3 2025-06-23 19:53:00  NVIDIA Forges Strategic AI Partnerships, Repor...   \n",
              "4 2025-06-23 19:45:00  US stocks aren’t safe in heated global tension...   \n",
              "\n",
              "                                             summary assigned_date  \n",
              "0  Nations are ramping up artificial intelligence...    2025-06-24  \n",
              "1  Nvidia shares are in focus ahead of the AI dar...    2025-06-24  \n",
              "2  As AI leaders like Nvidia and Meta drive deman...    2025-06-24  \n",
              "3  NVIDIA Corporation (NASDAQ:NVDA) is one of the...    2025-06-24  \n",
              "4  Bitcoin's volatility drops below major U.S. st...    2025-06-24  "
            ]
          },
          "execution_count": 38,
          "metadata": {},
          "output_type": "execute_result"
        }
      ],
      "source": [
        "news_df.head()"
      ]
    },
    {
      "cell_type": "code",
      "execution_count": 39,
      "metadata": {
        "colab": {
          "base_uri": "https://localhost:8080/",
          "height": 533
        },
        "id": "q-Lh0bo488T6",
        "outputId": "bb4fb1fa-13c1-4caa-eb11-d1d13a6d62f9"
      },
      "outputs": [
        {
          "data": {
            "text/plain": [
              "<Axes: xlabel='assigned_date'>"
            ]
          },
          "execution_count": 39,
          "metadata": {},
          "output_type": "execute_result"
        },
        {
          "data": {
            "image/png": "[encoded data removed]",
            "text/plain": [
              "<Figure size 640x480 with 1 Axes>"
            ]
          },
          "metadata": {},
          "output_type": "display_data"
        }
      ],
      "source": [
        "news_df[\"assigned_date\"].value_counts().sort_index().plot(kind=\"bar\")"
      ]
    },
    {
      "cell_type": "code",
      "execution_count": 40,
      "metadata": {
        "colab": {
          "base_uri": "https://localhost:8080/",
          "height": 533
        },
        "id": "OiN6x1MpAzTy",
        "outputId": "f945fa65-b338-475a-9f2d-32ad06f3215c"
      },
      "outputs": [
        {
          "data": {
            "text/plain": [
              "<Axes: xlabel='assigned_date'>"
            ]
          },
          "execution_count": 40,
          "metadata": {},
          "output_type": "execute_result"
        },
        {
          "data": {
            "image/png": "[encoded data removed]",
            "text/plain": [
              "<Figure size 640x480 with 1 Axes>"
            ]
          },
          "metadata": {},
          "output_type": "display_data"
        }
      ],
      "source": [
        "news_df = news_df[\n",
        "    (news_df[\"assigned_date\"] >= stock_df[\"date\"].min().date())\n",
        "    & (news_df[\"assigned_date\"] <= stock_df[\"date\"].max().date())\n",
        "].copy()\n",
        "news_df[\"assigned_date\"].value_counts().sort_index().plot(kind=\"bar\")"
      ]
    },
    {
      "cell_type": "code",
      "execution_count": null,
      "metadata": {},
      "outputs": [],
      "source": [
        "# news_df.to_csv(\"../data/processed/6-23_to_7-21_nvda_news.csv\", index=False)\n",
        "# stock_df.to_csv(\"../data/processed/6-23_to_7-21_nvda_stock.csv\", index=False)"
      ]
    }
  ],
  "metadata": {
    "colab": {
      "provenance": []
    },
    "kernelspec": {
      "display_name": "Python 3",
      "name": "python3"
    },
    "language_info": {
      "codemirror_mode": {
        "name": "ipython",
        "version": 3
      },
      "file_extension": ".py",
      "mimetype": "text/x-python",
      "name": "python",
      "nbconvert_exporter": "python",
      "pygments_lexer": "ipython3",
      "version": "3.13.3"
    }
  },
  "nbformat": 4,
  "nbformat_minor": 0
}

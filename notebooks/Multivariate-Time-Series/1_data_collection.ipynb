{
  "cells": [
    {
      "cell_type": "code",
      "execution_count": null,
      "metadata": {},
      "outputs": [],
      "source": [
        "# !pip install finnhub-python"
      ]
    },
    {
      "cell_type": "code",
      "execution_count": 1,
      "metadata": {
        "id": "Qr7ISm7el1hc"
      },
      "outputs": [],
      "source": [
        "import os\n",
        "from datetime import datetime, timedelta\n",
        "\n",
        "import finnhub\n",
        "import numpy as np\n",
        "import pandas as pd\n",
        "import yfinance as yf\n",
        "\n",
        "# from google.colab import userdata"
      ]
    },
    {
      "cell_type": "code",
      "execution_count": null,
      "metadata": {
        "id": "iO5_4zee8dlj"
      },
      "outputs": [],
      "source": [
        "np.random.seed(42)\n",
        "ticker = \"^GSPC\"\n",
        "# end = datetime.today() - timedelta(days=1)\n",
        "# start = end - timedelta(days=30)\n",
        "start_str, end_str = \"2024-07-25\", \"2025-07-25\""
      ]
    },
    {
      "cell_type": "code",
      "execution_count": 3,
      "metadata": {
        "colab": {
          "base_uri": "https://localhost:8080/",
          "height": 677
        },
        "id": "T0_YHWmd8fYi",
        "outputId": "ad0b3f3a-de88-4dfb-a51f-7f404f5e348b"
      },
      "outputs": [
        {
          "data": {
            "text/html": [
              "<div>\n",
              "<style scoped>\n",
              "    .dataframe tbody tr th:only-of-type {\n",
              "        vertical-align: middle;\n",
              "    }\n",
              "\n",
              "    .dataframe tbody tr th {\n",
              "        vertical-align: top;\n",
              "    }\n",
              "\n",
              "    .dataframe thead th {\n",
              "        text-align: right;\n",
              "    }\n",
              "</style>\n",
              "<table border=\"1\" class=\"dataframe\">\n",
              "  <thead>\n",
              "    <tr style=\"text-align: right;\">\n",
              "      <th></th>\n",
              "      <th>date</th>\n",
              "      <th>price</th>\n",
              "    </tr>\n",
              "  </thead>\n",
              "  <tbody>\n",
              "    <tr>\n",
              "      <th>0</th>\n",
              "      <td>2024-07-22</td>\n",
              "      <td>123.500984</td>\n",
              "    </tr>\n",
              "    <tr>\n",
              "      <th>1</th>\n",
              "      <td>2024-07-23</td>\n",
              "      <td>122.551285</td>\n",
              "    </tr>\n",
              "    <tr>\n",
              "      <th>2</th>\n",
              "      <td>2024-07-24</td>\n",
              "      <td>114.213913</td>\n",
              "    </tr>\n",
              "    <tr>\n",
              "      <th>3</th>\n",
              "      <td>2024-07-25</td>\n",
              "      <td>112.244537</td>\n",
              "    </tr>\n",
              "    <tr>\n",
              "      <th>4</th>\n",
              "      <td>2024-07-26</td>\n",
              "      <td>113.024284</td>\n",
              "    </tr>\n",
              "    <tr>\n",
              "      <th>...</th>\n",
              "      <td>...</td>\n",
              "      <td>...</td>\n",
              "    </tr>\n",
              "    <tr>\n",
              "      <th>245</th>\n",
              "      <td>2025-07-15</td>\n",
              "      <td>170.699997</td>\n",
              "    </tr>\n",
              "    <tr>\n",
              "      <th>246</th>\n",
              "      <td>2025-07-16</td>\n",
              "      <td>171.369995</td>\n",
              "    </tr>\n",
              "    <tr>\n",
              "      <th>247</th>\n",
              "      <td>2025-07-17</td>\n",
              "      <td>173.000000</td>\n",
              "    </tr>\n",
              "    <tr>\n",
              "      <th>248</th>\n",
              "      <td>2025-07-18</td>\n",
              "      <td>172.410004</td>\n",
              "    </tr>\n",
              "    <tr>\n",
              "      <th>249</th>\n",
              "      <td>2025-07-21</td>\n",
              "      <td>171.380005</td>\n",
              "    </tr>\n",
              "  </tbody>\n",
              "</table>\n",
              "<p>250 rows × 2 columns</p>\n",
              "</div>"
            ],
            "text/plain": [
              "          date       price\n",
              "0   2024-07-22  123.500984\n",
              "1   2024-07-23  122.551285\n",
              "2   2024-07-24  114.213913\n",
              "3   2024-07-25  112.244537\n",
              "4   2024-07-26  113.024284\n",
              "..         ...         ...\n",
              "245 2025-07-15  170.699997\n",
              "246 2025-07-16  171.369995\n",
              "247 2025-07-17  173.000000\n",
              "248 2025-07-18  172.410004\n",
              "249 2025-07-21  171.380005\n",
              "\n",
              "[250 rows x 2 columns]"
            ]
          },
          "execution_count": 3,
          "metadata": {},
          "output_type": "execute_result"
        }
      ],
      "source": [
        "stock_df = yf.download(\n",
        "    ticker, start=start_str, end=end_str, auto_adjust=True, progress=False\n",
        ")[[\"Close\"]].reset_index()\n",
        "stock_df.columns = [\"date\", \"price\"]\n",
        "stock_df"
      ]
    },
    {
      "cell_type": "code",
      "execution_count": 9,
      "metadata": {
        "id": "rYB0kZyE8gYC"
      },
      "outputs": [],
      "source": [
        "finnhub_client = finnhub.Client(api_key=os.getenv(\"FINNHUB_API_KEY\"))"
      ]
    },
    {
      "cell_type": "code",
      "execution_count": 10,
      "metadata": {
        "id": "4Mp2QSbo_76x"
      },
      "outputs": [],
      "source": [
        "def fetch_news_in_chunks(ticker, start_date, end_date, client, chunk_days=7):\n",
        "    all_news = []\n",
        "    current = start_date\n",
        "    while current <= end_date:\n",
        "        chunk_end = min(current + timedelta(days=chunk_days - 1), end_date)\n",
        "        news_chunk = client.company_news(\n",
        "            ticker,\n",
        "            _from=current.strftime(\"%Y-%m-%d\"),\n",
        "            to=chunk_end.strftime(\"%Y-%m-%d\"),\n",
        "        )\n",
        "        all_news.extend(news_chunk)\n",
        "        current = chunk_end + timedelta(days=1)\n",
        "    return pd.DataFrame(all_news)"
      ]
    },
    {
      "cell_type": "code",
      "execution_count": 11,
      "metadata": {
        "id": "zJ5DNfRxAvey"
      },
      "outputs": [],
      "source": [
        "start_dt = datetime.strptime(start_str, \"%Y-%m-%d\").date() - timedelta(days=2)\n",
        "end_dt = (stock_df[\"date\"].max()).date()\n",
        "news = fetch_news_in_chunks(ticker, start_dt, end_dt, finnhub_client, 7)"
      ]
    },
    {
      "cell_type": "code",
      "execution_count": 12,
      "metadata": {
        "id": "3NImahZa8hgh"
      },
      "outputs": [],
      "source": [
        "news_df = news[[\"datetime\", \"headline\", \"summary\"]].copy()\n",
        "\n",
        "news_df = news_df[\n",
        "    news_df[\"datetime\"].apply(lambda x: isinstance(x, (int, float)) and x > 0)\n",
        "]\n",
        "news_df[\"datetime\"] = pd.to_datetime(news_df[\"datetime\"], unit=\"s\")\n",
        "news_df[\"assigned_date\"] = news_df[\"datetime\"].apply(\n",
        "    lambda x: (x + timedelta(days=1)).date() if x.hour >= 16 else x.date()\n",
        ")"
      ]
    },
    {
      "cell_type": "code",
      "execution_count": 14,
      "metadata": {
        "colab": {
          "base_uri": "https://localhost:8080/",
          "height": 206
        },
        "id": "9GkLfc2B_yoj",
        "outputId": "4a3df51d-4285-448c-86cf-cca2a537e4e2"
      },
      "outputs": [
        {
          "data": {
            "text/html": [
              "<div>\n",
              "<style scoped>\n",
              "    .dataframe tbody tr th:only-of-type {\n",
              "        vertical-align: middle;\n",
              "    }\n",
              "\n",
              "    .dataframe tbody tr th {\n",
              "        vertical-align: top;\n",
              "    }\n",
              "\n",
              "    .dataframe thead th {\n",
              "        text-align: right;\n",
              "    }\n",
              "</style>\n",
              "<table border=\"1\" class=\"dataframe\">\n",
              "  <thead>\n",
              "    <tr style=\"text-align: right;\">\n",
              "      <th></th>\n",
              "      <th>datetime</th>\n",
              "      <th>headline</th>\n",
              "      <th>summary</th>\n",
              "      <th>assigned_date</th>\n",
              "    </tr>\n",
              "  </thead>\n",
              "  <tbody>\n",
              "    <tr>\n",
              "      <th>0</th>\n",
              "      <td>2024-08-01 23:02:34</td>\n",
              "      <td>Nvidia Stock Sank Today -- Is It Time to Buy t...</td>\n",
              "      <td>What's up next for Nvidia stock after an incre...</td>\n",
              "      <td>2024-08-02</td>\n",
              "    </tr>\n",
              "    <tr>\n",
              "      <th>1</th>\n",
              "      <td>2024-08-01 22:36:09</td>\n",
              "      <td>US Justice Dept. is investigating Nvidia's acq...</td>\n",
              "      <td>Nvidia announced the acquisition of the Israel...</td>\n",
              "      <td>2024-08-02</td>\n",
              "    </tr>\n",
              "    <tr>\n",
              "      <th>2</th>\n",
              "      <td>2024-08-01 22:13:28</td>\n",
              "      <td>US launches Nvidia antitrust probe after rival...</td>\n",
              "      <td>The U.S. Department of Justice has launched an...</td>\n",
              "      <td>2024-08-02</td>\n",
              "    </tr>\n",
              "    <tr>\n",
              "      <th>3</th>\n",
              "      <td>2024-08-01 21:36:34</td>\n",
              "      <td>NVIDIA, Maplebear And Two Other Stocks Insider...</td>\n",
              "      <td>The Nasdaq Composite jumped 2.64% at 17,599.40...</td>\n",
              "      <td>2024-08-02</td>\n",
              "    </tr>\n",
              "    <tr>\n",
              "      <th>4</th>\n",
              "      <td>2024-08-01 20:59:38</td>\n",
              "      <td>Nvidia faces US DOJ probe over complaints from...</td>\n",
              "      <td>Antitrust officials at the U.S.Department of J...</td>\n",
              "      <td>2024-08-02</td>\n",
              "    </tr>\n",
              "  </tbody>\n",
              "</table>\n",
              "</div>"
            ],
            "text/plain": [
              "             datetime                                           headline  \\\n",
              "0 2024-08-01 23:02:34  Nvidia Stock Sank Today -- Is It Time to Buy t...   \n",
              "1 2024-08-01 22:36:09  US Justice Dept. is investigating Nvidia's acq...   \n",
              "2 2024-08-01 22:13:28  US launches Nvidia antitrust probe after rival...   \n",
              "3 2024-08-01 21:36:34  NVIDIA, Maplebear And Two Other Stocks Insider...   \n",
              "4 2024-08-01 20:59:38  Nvidia faces US DOJ probe over complaints from...   \n",
              "\n",
              "                                             summary assigned_date  \n",
              "0  What's up next for Nvidia stock after an incre...    2024-08-02  \n",
              "1  Nvidia announced the acquisition of the Israel...    2024-08-02  \n",
              "2  The U.S. Department of Justice has launched an...    2024-08-02  \n",
              "3  The Nasdaq Composite jumped 2.64% at 17,599.40...    2024-08-02  \n",
              "4  Antitrust officials at the U.S.Department of J...    2024-08-02  "
            ]
          },
          "execution_count": 14,
          "metadata": {},
          "output_type": "execute_result"
        }
      ],
      "source": [
        "news_df.head()"
      ]
    },
    {
      "cell_type": "code",
      "execution_count": 20,
      "metadata": {
        "colab": {
          "base_uri": "https://localhost:8080/",
          "height": 533
        },
        "id": "OiN6x1MpAzTy",
        "outputId": "f945fa65-b338-475a-9f2d-32ad06f3215c"
      },
      "outputs": [
        {
          "data": {
            "text/plain": [
              "assigned_date\n",
              "2024-08-05    1\n",
              "2024-10-28    1\n",
              "2025-06-28    1\n",
              "2024-10-25    2\n",
              "2025-01-19    2\n",
              "2025-03-09    2\n",
              "2025-02-09    3\n",
              "2025-05-23    3\n",
              "2025-03-02    3\n",
              "2025-01-18    4\n",
              "Name: count, dtype: int64"
            ]
          },
          "execution_count": 20,
          "metadata": {},
          "output_type": "execute_result"
        }
      ],
      "source": [
        "news_df = news_df[\n",
        "    (news_df[\"assigned_date\"] >= stock_df[\"date\"].min().date())\n",
        "    & (news_df[\"assigned_date\"] <= stock_df[\"date\"].max().date())\n",
        "].copy()\n",
        "news_df[\"assigned_date\"].value_counts().sort_values().head(10)"
      ]
    },
    {
      "cell_type": "code",
      "execution_count": 24,
      "metadata": {},
      "outputs": [
        {
          "data": {
            "text/html": [
              "<div>\n",
              "<style scoped>\n",
              "    .dataframe tbody tr th:only-of-type {\n",
              "        vertical-align: middle;\n",
              "    }\n",
              "\n",
              "    .dataframe tbody tr th {\n",
              "        vertical-align: top;\n",
              "    }\n",
              "\n",
              "    .dataframe thead th {\n",
              "        text-align: right;\n",
              "    }\n",
              "</style>\n",
              "<table border=\"1\" class=\"dataframe\">\n",
              "  <thead>\n",
              "    <tr style=\"text-align: right;\">\n",
              "      <th></th>\n",
              "      <th>datetime</th>\n",
              "      <th>headline</th>\n",
              "      <th>summary</th>\n",
              "      <th>assigned_date</th>\n",
              "    </tr>\n",
              "  </thead>\n",
              "  <tbody>\n",
              "    <tr>\n",
              "      <th>227</th>\n",
              "      <td>2024-07-30 14:00:00</td>\n",
              "      <td>Down Between 17% and 35% From Their 52-Week Hi...</td>\n",
              "      <td>There are plenty of different ways to invest i...</td>\n",
              "      <td>2024-07-30</td>\n",
              "    </tr>\n",
              "    <tr>\n",
              "      <th>226</th>\n",
              "      <td>2024-07-30 14:15:00</td>\n",
              "      <td>1 Top Artificial Intelligence (AI) Stock Billi...</td>\n",
              "      <td>Some hedge funds have been selling Nvidia and ...</td>\n",
              "      <td>2024-07-30</td>\n",
              "    </tr>\n",
              "    <tr>\n",
              "      <th>225</th>\n",
              "      <td>2024-07-30 14:16:15</td>\n",
              "      <td>Stock market news today: Nasdaq sinks, Nvidia ...</td>\n",
              "      <td>A packed day of earnings and the start of the ...</td>\n",
              "      <td>2024-07-30</td>\n",
              "    </tr>\n",
              "    <tr>\n",
              "      <th>224</th>\n",
              "      <td>2024-07-30 14:26:00</td>\n",
              "      <td>More Big Tech Earnings Are Coming. What’s Next...</td>\n",
              "      <td>Microsoft will kick off this week’s Big Tech e...</td>\n",
              "      <td>2024-07-30</td>\n",
              "    </tr>\n",
              "    <tr>\n",
              "      <th>223</th>\n",
              "      <td>2024-07-30 14:54:00</td>\n",
              "      <td>Sensata (ST) Q2 Earnings Meet Estimates, Reven...</td>\n",
              "      <td>Sensata (ST) second-quarter revenues are drive...</td>\n",
              "      <td>2024-07-30</td>\n",
              "    </tr>\n",
              "    <tr>\n",
              "      <th>...</th>\n",
              "      <td>...</td>\n",
              "      <td>...</td>\n",
              "      <td>...</td>\n",
              "      <td>...</td>\n",
              "    </tr>\n",
              "    <tr>\n",
              "      <th>10958</th>\n",
              "      <td>2025-07-21 13:05:27</td>\n",
              "      <td>Digi Power X to Raise US$15 Million in Direct ...</td>\n",
              "      <td>Digi Power X (Nasdaq: DGXX and TSXV: DGX), an ...</td>\n",
              "      <td>2025-07-21</td>\n",
              "    </tr>\n",
              "    <tr>\n",
              "      <th>10957</th>\n",
              "      <td>2025-07-21 13:22:00</td>\n",
              "      <td>WeRide Teams Up With Lenovo to Launch 100% Aut...</td>\n",
              "      <td>GUANGZHOU, China, July 21, 2025 (GLOBE NEWSWIR...</td>\n",
              "      <td>2025-07-21</td>\n",
              "    </tr>\n",
              "    <tr>\n",
              "      <th>10956</th>\n",
              "      <td>2025-07-21 13:39:19</td>\n",
              "      <td>Amazon Investors Search for Signs of AI Lift W...</td>\n",
              "      <td>(Bloomberg) -- Aggressive spending on artifici...</td>\n",
              "      <td>2025-07-21</td>\n",
              "    </tr>\n",
              "    <tr>\n",
              "      <th>10984</th>\n",
              "      <td>2025-07-21 01:30:00</td>\n",
              "      <td>Nvidia and Broadcom: Here's How These Top AI S...</td>\n",
              "      <td>Nvidia and Broadcom both have reported soaring...</td>\n",
              "      <td>2025-07-21</td>\n",
              "    </tr>\n",
              "    <tr>\n",
              "      <th>10964</th>\n",
              "      <td>2025-07-21 11:41:00</td>\n",
              "      <td>How Trump’s Policies Are Boosting Tech Stocks—...</td>\n",
              "      <td>Tech’s strength has people talking about bubbl...</td>\n",
              "      <td>2025-07-21</td>\n",
              "    </tr>\n",
              "  </tbody>\n",
              "</table>\n",
              "<p>11060 rows × 4 columns</p>\n",
              "</div>"
            ],
            "text/plain": [
              "                 datetime                                           headline  \\\n",
              "227   2024-07-30 14:00:00  Down Between 17% and 35% From Their 52-Week Hi...   \n",
              "226   2024-07-30 14:15:00  1 Top Artificial Intelligence (AI) Stock Billi...   \n",
              "225   2024-07-30 14:16:15  Stock market news today: Nasdaq sinks, Nvidia ...   \n",
              "224   2024-07-30 14:26:00  More Big Tech Earnings Are Coming. What’s Next...   \n",
              "223   2024-07-30 14:54:00  Sensata (ST) Q2 Earnings Meet Estimates, Reven...   \n",
              "...                   ...                                                ...   \n",
              "10958 2025-07-21 13:05:27  Digi Power X to Raise US$15 Million in Direct ...   \n",
              "10957 2025-07-21 13:22:00  WeRide Teams Up With Lenovo to Launch 100% Aut...   \n",
              "10956 2025-07-21 13:39:19  Amazon Investors Search for Signs of AI Lift W...   \n",
              "10984 2025-07-21 01:30:00  Nvidia and Broadcom: Here's How These Top AI S...   \n",
              "10964 2025-07-21 11:41:00  How Trump’s Policies Are Boosting Tech Stocks—...   \n",
              "\n",
              "                                                 summary assigned_date  \n",
              "227    There are plenty of different ways to invest i...    2024-07-30  \n",
              "226    Some hedge funds have been selling Nvidia and ...    2024-07-30  \n",
              "225    A packed day of earnings and the start of the ...    2024-07-30  \n",
              "224    Microsoft will kick off this week’s Big Tech e...    2024-07-30  \n",
              "223    Sensata (ST) second-quarter revenues are drive...    2024-07-30  \n",
              "...                                                  ...           ...  \n",
              "10958  Digi Power X (Nasdaq: DGXX and TSXV: DGX), an ...    2025-07-21  \n",
              "10957  GUANGZHOU, China, July 21, 2025 (GLOBE NEWSWIR...    2025-07-21  \n",
              "10956  (Bloomberg) -- Aggressive spending on artifici...    2025-07-21  \n",
              "10984  Nvidia and Broadcom both have reported soaring...    2025-07-21  \n",
              "10964  Tech’s strength has people talking about bubbl...    2025-07-21  \n",
              "\n",
              "[11060 rows x 4 columns]"
            ]
          },
          "execution_count": 24,
          "metadata": {},
          "output_type": "execute_result"
        }
      ],
      "source": [
        "news_df.sort_values(by=\"assigned_date\", inplace=True)\n",
        "news_df"
      ]
    },
    {
      "cell_type": "code",
      "execution_count": 28,
      "metadata": {},
      "outputs": [
        {
          "data": {
            "text/html": [
              "<div>\n",
              "<style scoped>\n",
              "    .dataframe tbody tr th:only-of-type {\n",
              "        vertical-align: middle;\n",
              "    }\n",
              "\n",
              "    .dataframe tbody tr th {\n",
              "        vertical-align: top;\n",
              "    }\n",
              "\n",
              "    .dataframe thead th {\n",
              "        text-align: right;\n",
              "    }\n",
              "</style>\n",
              "<table border=\"1\" class=\"dataframe\">\n",
              "  <thead>\n",
              "    <tr style=\"text-align: right;\">\n",
              "      <th></th>\n",
              "      <th>date</th>\n",
              "      <th>price</th>\n",
              "    </tr>\n",
              "  </thead>\n",
              "  <tbody>\n",
              "    <tr>\n",
              "      <th>6</th>\n",
              "      <td>2024-07-30</td>\n",
              "      <td>103.697243</td>\n",
              "    </tr>\n",
              "    <tr>\n",
              "      <th>7</th>\n",
              "      <td>2024-07-31</td>\n",
              "      <td>116.983040</td>\n",
              "    </tr>\n",
              "    <tr>\n",
              "      <th>8</th>\n",
              "      <td>2024-08-01</td>\n",
              "      <td>109.175514</td>\n",
              "    </tr>\n",
              "    <tr>\n",
              "      <th>9</th>\n",
              "      <td>2024-08-02</td>\n",
              "      <td>107.236115</td>\n",
              "    </tr>\n",
              "    <tr>\n",
              "      <th>10</th>\n",
              "      <td>2024-08-05</td>\n",
              "      <td>100.418274</td>\n",
              "    </tr>\n",
              "  </tbody>\n",
              "</table>\n",
              "</div>"
            ],
            "text/plain": [
              "          date       price\n",
              "6   2024-07-30  103.697243\n",
              "7   2024-07-31  116.983040\n",
              "8   2024-08-01  109.175514\n",
              "9   2024-08-02  107.236115\n",
              "10  2024-08-05  100.418274"
            ]
          },
          "execution_count": 28,
          "metadata": {},
          "output_type": "execute_result"
        }
      ],
      "source": [
        "# remove stock price data before 7-30-2024\n",
        "stock_df[\"date\"] = pd.to_datetime(stock_df[\"date\"]).dt.date\n",
        "stock_df = stock_df[\n",
        "    (stock_df[\"date\"] >= news_df[\"assigned_date\"].min())\n",
        "    & (stock_df[\"date\"] <= news_df[\"assigned_date\"].max())\n",
        "].copy()\n",
        "stock_df.head()"
      ]
    },
    {
      "cell_type": "code",
      "execution_count": 30,
      "metadata": {},
      "outputs": [],
      "source": [
        "news_df.to_csv(\"../../data/processed/7-30-2024_to_7-21-2025_nvda_news.csv\", index=False)\n",
        "stock_df.to_csv(\n",
        "    \"../../data/processed/7-30-2024_to_7-21-2025_nvda_stock.csv\", index=False\n",
        ")"
      ]
    }
  ],
  "metadata": {
    "colab": {
      "provenance": []
    },
    "kernelspec": {
      "display_name": "Python 3",
      "name": "python3"
    },
    "language_info": {
      "codemirror_mode": {
        "name": "ipython",
        "version": 3
      },
      "file_extension": ".py",
      "mimetype": "text/x-python",
      "name": "python",
      "nbconvert_exporter": "python",
      "pygments_lexer": "ipython3",
      "version": "3.13.3"
    }
  },
  "nbformat": 4,
  "nbformat_minor": 0
}
